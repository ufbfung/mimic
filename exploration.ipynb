{
  "nbformat": 4,
  "nbformat_minor": 0,
  "metadata": {
    "colab": {
      "provenance": [],
      "authorship_tag": "ABX9TyNLtOa0kRcsplP0lhqp7KT9",
      "include_colab_link": true
    },
    "kernelspec": {
      "name": "python3",
      "display_name": "Python 3"
    },
    "language_info": {
      "name": "python"
    }
  },
  "cells": [
    {
      "cell_type": "markdown",
      "metadata": {
        "id": "view-in-github",
        "colab_type": "text"
      },
      "source": [
        "<a href=\"https://colab.research.google.com/github/ufbfung/mimic/blob/main/exploration.ipynb\" target=\"_parent\"><img src=\"https://colab.research.google.com/assets/colab-badge.svg\" alt=\"Open In Colab\"/></a>"
      ]
    },
    {
      "cell_type": "markdown",
      "source": [
        "# MIMIC-III Dataset\n",
        "Access to the MIMIC-III dataset can be found at PhysioNet website (https://physionet.org/content/mimiciii/1.4/).\n",
        "\n",
        "Freely available for non-commercial research purposes, but requires approval."
      ],
      "metadata": {
        "id": "jVRYprhTRT0Y"
      }
    },
    {
      "cell_type": "markdown",
      "source": [
        "## Setup environment\n"
      ],
      "metadata": {
        "id": "HDTXEIyuRWBt"
      }
    },
    {
      "cell_type": "markdown",
      "source": [
        "### Load environment variables\n",
        "This section is just a template for future querying. Not used currently."
      ],
      "metadata": {
        "id": "fRu7vpcpRchv"
      }
    },
    {
      "cell_type": "code",
      "source": [
        "!pip install python-dotenv\n",
        "from dotenv import load_dotenv\n",
        "import os\n",
        "\n",
        "# Load variables from .env file\n",
        "load_dotenv('credentials.env')\n",
        "\n",
        "# Access the variables\n",
        "username = os.getenv('mimic_username')\n",
        "password = os.getenv('mimic_password')"
      ],
      "metadata": {
        "colab": {
          "base_uri": "https://localhost:8080/"
        },
        "id": "Jj0K7WNyRiRf",
        "outputId": "5932c849-4dd1-4eb6-fa05-7e6b2b77dd42"
      },
      "execution_count": 1,
      "outputs": [
        {
          "output_type": "stream",
          "name": "stdout",
          "text": [
            "Looking in indexes: https://pypi.org/simple, https://us-python.pkg.dev/colab-wheels/public/simple/\n",
            "Collecting python-dotenv\n",
            "  Downloading python_dotenv-1.0.0-py3-none-any.whl (19 kB)\n",
            "Installing collected packages: python-dotenv\n",
            "Successfully installed python-dotenv-1.0.0\n"
          ]
        }
      ]
    },
    {
      "cell_type": "markdown",
      "source": [
        "## Integrate with BigQuery\n",
        "This section will allow integration with Google BigQuery to bring data into your Colab instance."
      ],
      "metadata": {
        "id": "0ll_P10pSieZ"
      }
    },
    {
      "cell_type": "markdown",
      "source": [
        "### Authenticate and authorize Colab Notebook\n",
        "This step will install relevant libraries for authentication and authorization and also authenticate your Colab notebook to connect to Google BigQuery."
      ],
      "metadata": {
        "id": "NtLwOkhjRswa"
      }
    },
    {
      "cell_type": "code",
      "source": [
        "# Install relevant libraries\n",
        "from google.colab import auth # this provides functions for authenticating and authorizing your Google account within the Colab environment\n",
        "\n",
        "# Authenticate\n",
        "auth.authenticate_user() # this initiates the authentication process which will prompt you to authenticate your Google account. The purpose of this authentication is to allow your Colab notebook to access Google Cloud services, such as BigQuery, using your authorized account."
      ],
      "metadata": {
        "id": "huYUmwPZRwlX"
      },
      "execution_count": 2,
      "outputs": []
    },
    {
      "cell_type": "markdown",
      "source": [
        "### Create a client\n",
        "This step will create a client to access a specific project within BigQuery. You will want to copy the name of the project you're interested in querying from BigQuery and set it to the project variable."
      ],
      "metadata": {
        "id": "y43pP3aER1sc"
      }
    },
    {
      "cell_type": "code",
      "source": [
        "# Install relevant library\n",
        "from google.cloud import bigquery\n",
        "\n",
        "# Define project you're interested in querying from BigQuery\n",
        "project = 'mimic-biomed215'\n",
        "\n",
        "# Create a client\n",
        "client = bigquery.Client(project=project)"
      ],
      "metadata": {
        "id": "2Peri3gWR4y3"
      },
      "execution_count": 3,
      "outputs": []
    },
    {
      "cell_type": "markdown",
      "source": [
        "### Write a query\n",
        "This step involves writing an SQL query you want to use. Below is a simple query that can be used to quickly check the connection"
      ],
      "metadata": {
        "id": "z7BD6SJuSDOc"
      }
    },
    {
      "cell_type": "code",
      "source": [
        "# Write a sample query to check connection\n",
        "query = \"\"\"\n",
        "SELECT *\n",
        "FROM `physionet-data.mimiciii_clinical.admissions`\n",
        "LIMIT 5\n",
        "\"\"\""
      ],
      "metadata": {
        "id": "vEW7e-ohSFpb"
      },
      "execution_count": 4,
      "outputs": []
    },
    {
      "cell_type": "markdown",
      "source": [
        "### Run the query & get results\n"
      ],
      "metadata": {
        "id": "Bj3R0wkBSP_J"
      }
    },
    {
      "cell_type": "code",
      "source": [
        "# Run the query\n",
        "query_job = client.query(query)\n",
        "\n",
        "# Get the results\n",
        "results = query_job.result()"
      ],
      "metadata": {
        "id": "IizesHn9SSI8"
      },
      "execution_count": 7,
      "outputs": []
    },
    {
      "cell_type": "markdown",
      "source": [
        "### Process and extract the data\n",
        "This will process the data from the query and print them"
      ],
      "metadata": {
        "id": "TZeYkietSTaj"
      }
    },
    {
      "cell_type": "code",
      "source": [
        "# Process and extract the data\n",
        "for row in results:\n",
        "  print(row) # process the row data"
      ],
      "metadata": {
        "colab": {
          "base_uri": "https://localhost:8080/"
        },
        "id": "gipQ5nxvSXGL",
        "outputId": "2e43675f-0298-421c-fba6-16d5bd79ef4f"
      },
      "execution_count": 6,
      "outputs": [
        {
          "output_type": "stream",
          "name": "stdout",
          "text": [
            "Row((3757, 3115, 134067, datetime.datetime(2139, 2, 13, 3, 11), datetime.datetime(2139, 2, 20, 7, 33), None, 'EMERGENCY', 'EMERGENCY ROOM ADMIT', 'SNF', 'Medicare', None, None, None, 'WHITE', datetime.datetime(2139, 2, 13, 0, 2), datetime.datetime(2139, 2, 13, 3, 22), 'STAB WOUND', 0, 1), {'ROW_ID': 0, 'SUBJECT_ID': 1, 'HADM_ID': 2, 'ADMITTIME': 3, 'DISCHTIME': 4, 'DEATHTIME': 5, 'ADMISSION_TYPE': 6, 'ADMISSION_LOCATION': 7, 'DISCHARGE_LOCATION': 8, 'INSURANCE': 9, 'LANGUAGE': 10, 'RELIGION': 11, 'MARITAL_STATUS': 12, 'ETHNICITY': 13, 'EDREGTIME': 14, 'EDOUTTIME': 15, 'DIAGNOSIS': 16, 'HOSPITAL_EXPIRE_FLAG': 17, 'HAS_CHARTEVENTS_DATA': 18})\n",
            "Row((8689, 7124, 109129, datetime.datetime(2188, 7, 11, 0, 58), datetime.datetime(2188, 8, 1, 12, 4), None, 'EMERGENCY', 'EMERGENCY ROOM ADMIT', 'SNF', 'Medicare', None, None, None, 'WHITE', datetime.datetime(2188, 7, 10, 14, 17), datetime.datetime(2188, 7, 11, 1, 52), 'PENILE LACERATION-CELLULITIS', 0, 1), {'ROW_ID': 0, 'SUBJECT_ID': 1, 'HADM_ID': 2, 'ADMITTIME': 3, 'DISCHTIME': 4, 'DEATHTIME': 5, 'ADMISSION_TYPE': 6, 'ADMISSION_LOCATION': 7, 'DISCHARGE_LOCATION': 8, 'INSURANCE': 9, 'LANGUAGE': 10, 'RELIGION': 11, 'MARITAL_STATUS': 12, 'ETHNICITY': 13, 'EDREGTIME': 14, 'EDOUTTIME': 15, 'DIAGNOSIS': 16, 'HOSPITAL_EXPIRE_FLAG': 17, 'HAS_CHARTEVENTS_DATA': 18})\n",
            "Row((12652, 10348, 121510, datetime.datetime(2133, 4, 16, 21, 12), datetime.datetime(2133, 4, 23, 15, 52), None, 'EMERGENCY', 'EMERGENCY ROOM ADMIT', 'SNF', 'Medicare', None, None, None, 'UNKNOWN/NOT SPECIFIED', datetime.datetime(2133, 4, 16, 19, 22), datetime.datetime(2133, 4, 16, 22, 17), 'STATUS EPILEPTICUS', 0, 1), {'ROW_ID': 0, 'SUBJECT_ID': 1, 'HADM_ID': 2, 'ADMITTIME': 3, 'DISCHTIME': 4, 'DEATHTIME': 5, 'ADMISSION_TYPE': 6, 'ADMISSION_LOCATION': 7, 'DISCHARGE_LOCATION': 8, 'INSURANCE': 9, 'LANGUAGE': 10, 'RELIGION': 11, 'MARITAL_STATUS': 12, 'ETHNICITY': 13, 'EDREGTIME': 14, 'EDOUTTIME': 15, 'DIAGNOSIS': 16, 'HOSPITAL_EXPIRE_FLAG': 17, 'HAS_CHARTEVENTS_DATA': 18})\n",
            "Row((11501, 9396, 106469, datetime.datetime(2109, 2, 16, 23, 14), datetime.datetime(2109, 2, 23, 12, 1), None, 'EMERGENCY', 'EMERGENCY ROOM ADMIT', 'SNF', 'Medicare', None, None, None, 'WHITE', datetime.datetime(2109, 2, 16, 20, 58), datetime.datetime(2109, 2, 16, 23, 42), 'SUBDURAL HEMATOMA', 0, 1), {'ROW_ID': 0, 'SUBJECT_ID': 1, 'HADM_ID': 2, 'ADMITTIME': 3, 'DISCHTIME': 4, 'DEATHTIME': 5, 'ADMISSION_TYPE': 6, 'ADMISSION_LOCATION': 7, 'DISCHARGE_LOCATION': 8, 'INSURANCE': 9, 'LANGUAGE': 10, 'RELIGION': 11, 'MARITAL_STATUS': 12, 'ETHNICITY': 13, 'EDREGTIME': 14, 'EDOUTTIME': 15, 'DIAGNOSIS': 16, 'HOSPITAL_EXPIRE_FLAG': 17, 'HAS_CHARTEVENTS_DATA': 18})\n",
            "Row((11419, 9333, 133732, datetime.datetime(2167, 10, 6, 18, 35), datetime.datetime(2167, 10, 16, 13, 13), None, 'URGENT', 'TRANSFER FROM HOSP/EXTRAM', 'SNF', 'Private', None, None, None, 'UNKNOWN/NOT SPECIFIED', None, None, 'CORONARY ARTERY DISEASE', 0, 1), {'ROW_ID': 0, 'SUBJECT_ID': 1, 'HADM_ID': 2, 'ADMITTIME': 3, 'DISCHTIME': 4, 'DEATHTIME': 5, 'ADMISSION_TYPE': 6, 'ADMISSION_LOCATION': 7, 'DISCHARGE_LOCATION': 8, 'INSURANCE': 9, 'LANGUAGE': 10, 'RELIGION': 11, 'MARITAL_STATUS': 12, 'ETHNICITY': 13, 'EDREGTIME': 14, 'EDOUTTIME': 15, 'DIAGNOSIS': 16, 'HOSPITAL_EXPIRE_FLAG': 17, 'HAS_CHARTEVENTS_DATA': 18})\n"
          ]
        }
      ]
    }
  ]
}