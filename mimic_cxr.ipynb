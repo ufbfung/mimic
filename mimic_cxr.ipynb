{
  "nbformat": 4,
  "nbformat_minor": 0,
  "metadata": {
    "colab": {
      "provenance": [],
      "authorship_tag": "ABX9TyPxNcG4BlaJ1QJjHe5R7vf5",
      "include_colab_link": true
    },
    "kernelspec": {
      "name": "python3",
      "display_name": "Python 3"
    },
    "language_info": {
      "name": "python"
    }
  },
  "cells": [
    {
      "cell_type": "markdown",
      "metadata": {
        "id": "view-in-github",
        "colab_type": "text"
      },
      "source": [
        "<a href=\"https://colab.research.google.com/github/ufbfung/mimic/blob/main/mimic_cxr.ipynb\" target=\"_parent\"><img src=\"https://colab.research.google.com/assets/colab-badge.svg\" alt=\"Open In Colab\"/></a>"
      ]
    },
    {
      "cell_type": "markdown",
      "source": [
        "# MIMIC-CXR\n",
        "This notebook will explore the new chest x-ray repository from mimic."
      ],
      "metadata": {
        "id": "-GyAK6-2cLzA"
      }
    },
    {
      "cell_type": "markdown",
      "source": [
        "## Setup environment\n"
      ],
      "metadata": {
        "id": "HDTXEIyuRWBt"
      }
    },
    {
      "cell_type": "markdown",
      "source": [
        "### Mount Google Drive & Map File Paths\n",
        "This section will connect to your google drive and define any file paths for subsequent access and references."
      ],
      "metadata": {
        "id": "edfS7hn6GQdl"
      }
    },
    {
      "cell_type": "code",
      "source": [
        "# Import relevant libraries\n",
        "from google.colab import drive # to mount google drive\n",
        "import os # to deal with file paths\n",
        "import numpy as np # to deal with data\n",
        "import pandas as pd # to deal with data\n",
        "import cv2 # to read videos\n",
        "from matplotlib import pyplot as plt # to plot figures\n",
        "\n",
        "# Mount drive\n",
        "drive.mount('/content/drive')"
      ],
      "metadata": {
        "id": "6KXtibdpGPVk",
        "outputId": "48bb82fc-f2c1-4650-b583-5cfae946c0fb",
        "colab": {
          "base_uri": "https://localhost:8080/"
        }
      },
      "execution_count": 11,
      "outputs": [
        {
          "output_type": "stream",
          "name": "stdout",
          "text": [
            "Drive already mounted at /content/drive; to attempt to forcibly remount, call drive.mount(\"/content/drive\", force_remount=True).\n"
          ]
        }
      ]
    },
    {
      "cell_type": "code",
      "source": [
        "# Define file paths\n",
        "root_path = '/content/drive/My Drive/coding/mimic/cxr'\n",
        "train_split_csv = os.path.join(root_path, 'mimic-cxr-2.0.0-split.csv')"
      ],
      "metadata": {
        "id": "eqZj-2BXG4Jp"
      },
      "execution_count": 19,
      "outputs": []
    },
    {
      "cell_type": "code",
      "source": [
        "# Read the CSV file into a dataframe\n",
        "split = pd.read_csv(train_split_csv)\n",
        "\n",
        "# Summarize the values in the 'split' column\n",
        "split_summary = split['split'].value_counts()\n",
        "\n",
        "# Display the summary\n",
        "print(split_summary)"
      ],
      "metadata": {
        "id": "1Ts4uHsyKXfK",
        "outputId": "61036ddf-8d27-4045-d78b-08ccca395c83",
        "colab": {
          "base_uri": "https://localhost:8080/"
        }
      },
      "execution_count": 22,
      "outputs": [
        {
          "output_type": "stream",
          "name": "stdout",
          "text": [
            "train       368960\n",
            "test          5159\n",
            "validate      2991\n",
            "Name: split, dtype: int64\n"
          ]
        }
      ]
    },
    {
      "cell_type": "code",
      "source": [
        "# Print first few rows of csv\n",
        "print(split.head)"
      ],
      "metadata": {
        "id": "1APHoR6gLqhv",
        "outputId": "a6c09a2a-38ee-4291-bf69-59d9bbae740c",
        "colab": {
          "base_uri": "https://localhost:8080/"
        }
      },
      "execution_count": 25,
      "outputs": [
        {
          "output_type": "stream",
          "name": "stdout",
          "text": [
            "<bound method NDFrame.head of                                             dicom_id  study_id  subject_id  \\\n",
            "0       02aa804e-bde0afdd-112c0b34-7bc16630-4e384014  50414267    10000032   \n",
            "1       174413ec-4ec4c1f7-34ea26b7-c5f994f8-79ef1962  50414267    10000032   \n",
            "2       2a2277a9-b0ded155-c0de8eb9-c124d10e-82c5caab  53189527    10000032   \n",
            "3       e084de3b-be89b11e-20fe3f9f-9c8d8dfe-4cfd202c  53189527    10000032   \n",
            "4       68b5c4b1-227d0485-9cc38c3f-7b84ab51-4b472714  53911762    10000032   \n",
            "...                                              ...       ...         ...   \n",
            "377105  428e2c18-5721d8f3-35a05001-36f3d080-9053b83c  57132437    19999733   \n",
            "377106  58c403aa-35ff8bd9-73e39f54-8dc9cc5d-e0ec3fa9  57132437    19999733   \n",
            "377107  58766883-376a15ce-3b323a28-6af950a0-16b793bd  55368167    19999987   \n",
            "377108  7ba273af-3d290f8d-e28d0ab4-484b7a86-7fc12b08  58621812    19999987   \n",
            "377109  1a1fe7e3-cbac5d93-b339aeda-86bb86b5-4f31e82e  58971208    19999987   \n",
            "\n",
            "        split  \n",
            "0       train  \n",
            "1       train  \n",
            "2       train  \n",
            "3       train  \n",
            "4       train  \n",
            "...       ...  \n",
            "377105  train  \n",
            "377106  train  \n",
            "377107  train  \n",
            "377108  train  \n",
            "377109  train  \n",
            "\n",
            "[377110 rows x 4 columns]>\n"
          ]
        }
      ]
    },
    {
      "cell_type": "markdown",
      "source": [
        "### Integrate with BigQuery\n",
        "This section will allow integration with Google BigQuery to bring data into your Colab instance."
      ],
      "metadata": {
        "id": "0ll_P10pSieZ"
      }
    },
    {
      "cell_type": "markdown",
      "source": [
        "### Authenticate and authorize Colab Notebook\n",
        "This step will install relevant libraries for authentication and authorization and also authenticate your Colab notebook to connect to Google BigQuery."
      ],
      "metadata": {
        "id": "NtLwOkhjRswa"
      }
    },
    {
      "cell_type": "code",
      "source": [
        "# Install relevant libraries\n",
        "from google.colab import auth\n",
        "\n",
        "# Authenticate\n",
        "auth.authenticate_user()\n",
        "\n",
        "# Install relevant library\n",
        "from google.cloud import bigquery\n",
        "\n",
        "# Define project you're interested in querying from BigQuery\n",
        "project = 'mimic-iv-390722'\n",
        "\n",
        "# Create a client\n",
        "client = bigquery.Client(project=project)\n",
        "\n",
        "# Write a sample query to check connection\n",
        "query = \"\"\"\n",
        "SELECT *\n",
        "FROM `physionet-data.mimiciii_clinical.admissions`\n",
        "LIMIT 1\n",
        "\"\"\"\n",
        "\n",
        "# Run the query\n",
        "query_job = client.query(query)\n",
        "\n",
        "# Get the results\n",
        "results = query_job.result()\n",
        "\n",
        "# Process and extract the data\n",
        "for row in results:\n",
        "  print(row) # process the row data"
      ],
      "metadata": {
        "id": "huYUmwPZRwlX",
        "outputId": "520676a5-1ef9-45f5-9d40-053d337d6782",
        "colab": {
          "base_uri": "https://localhost:8080/"
        }
      },
      "execution_count": 24,
      "outputs": [
        {
          "output_type": "stream",
          "name": "stdout",
          "text": [
            "Row((3757, 3115, 134067, datetime.datetime(2139, 2, 13, 3, 11), datetime.datetime(2139, 2, 20, 7, 33), None, 'EMERGENCY', 'EMERGENCY ROOM ADMIT', 'SNF', 'Medicare', None, None, None, 'WHITE', datetime.datetime(2139, 2, 13, 0, 2), datetime.datetime(2139, 2, 13, 3, 22), 'STAB WOUND', 0, 1), {'ROW_ID': 0, 'SUBJECT_ID': 1, 'HADM_ID': 2, 'ADMITTIME': 3, 'DISCHTIME': 4, 'DEATHTIME': 5, 'ADMISSION_TYPE': 6, 'ADMISSION_LOCATION': 7, 'DISCHARGE_LOCATION': 8, 'INSURANCE': 9, 'LANGUAGE': 10, 'RELIGION': 11, 'MARITAL_STATUS': 12, 'ETHNICITY': 13, 'EDREGTIME': 14, 'EDOUTTIME': 15, 'DIAGNOSIS': 16, 'HOSPITAL_EXPIRE_FLAG': 17, 'HAS_CHARTEVENTS_DATA': 18})\n"
          ]
        }
      ]
    },
    {
      "cell_type": "markdown",
      "source": [
        "## Connect to Google Cloud Storage (GCS) to access the chest x-rays\n",
        "We will plan to access the images directly from GCS vs. uploading them. This section will access the GCS bucket to process the images.\n",
        "\n",
        "This section will assume that you have already authenticated with Google Cloud from the prior step using auth.authenticate_user()"
      ],
      "metadata": {
        "id": "SU68V9Kzc48-"
      }
    },
    {
      "cell_type": "code",
      "source": [
        "# Install relevant libraries\n",
        "from google.cloud import storage\n",
        "\n",
        "# Create a client\n",
        "project_id = 'mimic-iv-390722'\n",
        "storage_client = storage.Client(project=project_id)\n",
        "\n",
        "# Get a bucket reference\n",
        "bucket_name = 'mimic-iv-cxr'\n",
        "bucket = storage_client.get_bucket(bucket_name)\n",
        "\n",
        "# List objects in the bucket\n",
        "blobs = bucket.list_blobs()\n",
        "\n",
        "# Set paths to files\n",
        "# files_path =\n",
        "\n",
        "# Alternatively, you can directly access a specific blob by its name\n",
        "specific_blob = bucket.blob('files/p10/p10000032/s50414267/02aa804e-bde0afdd-112c0b34-7bc16630-4e384014.jpg')\n",
        "print(specific_blob)\n",
        "# Perform operations on the specific blob\n",
        "# For example, download the file\n",
        "#specific_blob.download_to_filename('local_file.jpg')\n",
        "#print(\"File downloaded successfully.\")\n",
        "#for blob in blobs:\n",
        "#  print(blob.name)"
      ],
      "metadata": {
        "colab": {
          "base_uri": "https://localhost:8080/"
        },
        "id": "fnHW3QQHdFiQ",
        "outputId": "5d4633a7-b8ec-4d87-8c90-a8579897d870"
      },
      "execution_count": null,
      "outputs": [
        {
          "output_type": "stream",
          "name": "stdout",
          "text": [
            "<Blob: mimic-iv-cxr, files/p10/p10000032/s50414267/02aa804e-bde0afdd-112c0b34-7bc16630-4e384014.jpg, None>\n"
          ]
        }
      ]
    },
    {
      "cell_type": "markdown",
      "source": [
        "## Setup ResNet CNN\n",
        "- For the training-validate-test splits, we'll use the predefined studies set by mimic in their mimic-cxr-2.0.0-split.csv"
      ],
      "metadata": {
        "id": "usBqzE4ZFty1"
      }
    },
    {
      "cell_type": "code",
      "source": [
        "#"
      ],
      "metadata": {
        "id": "yPSXGYYdF0Lo"
      },
      "execution_count": null,
      "outputs": []
    },
    {
      "cell_type": "markdown",
      "source": [
        "# Explore the data\n",
        "Once everything is setup. We can start to run some queries to get an idea of what the dataset looks like. We'll start with some queries that profile the MIMIC-III dataset.\n",
        "\n",
        "In this section, we'll also define some helper functions that will assist us in querying the data.\n",
        "\n",
        "A examplar notebook for exploring the data will be primarily based on the [MIMIC code repository](https://github.com/MIT-LCP/mimic-code/blob/main/mimic-iv/notebooks/tableone.ipynb) for doing just that - exploring demographics and charts within MIMIC-IV."
      ],
      "metadata": {
        "id": "Sedw77J6Vt2X"
      }
    },
    {
      "cell_type": "code",
      "source": [
        "# !pip install tableone\n",
        "# from tableone import TableOne"
      ],
      "metadata": {
        "id": "r6aG1UQmhezZ"
      },
      "execution_count": null,
      "outputs": []
    },
    {
      "cell_type": "code",
      "source": [
        "# Import relevant libraries for exploration\n",
        "from collections import OrderedDict\n",
        "from tabulate import tabulate\n",
        "import matplotlib.pyplot as plt\n",
        "import numpy as np\n",
        "import pandas as pd\n",
        "import seaborn as sns"
      ],
      "metadata": {
        "id": "_O3pGnsvhT-7"
      },
      "execution_count": null,
      "outputs": []
    },
    {
      "cell_type": "code",
      "source": [
        "def query_dataset(query):\n",
        "  # Run the query\n",
        "  query_job = client.query(query)\n",
        "\n",
        "  # Get the results\n",
        "  results = query_job.result()\n",
        "\n",
        "  # Process and extract the data\n",
        "  for row in results:\n",
        "    print(row) # process the row data\n",
        "\n",
        "def extract_pneumonia_rows(query):\n",
        "  # Run the query\n",
        "  query_job = client.query(query)\n",
        "\n",
        "  # Get the results\n",
        "  results = query_job.result()\n",
        "\n",
        "  # Process and extract the data\n",
        "  filtered_rows = []\n",
        "  for row in results:\n",
        "    if row.Pneumonia == 1.0: # Check if 'Pneumonia' column has a value of 1.0\n",
        "      filtered_rows.append(row) # Store the row data\n",
        "      print(row) # process the row data\n",
        "      # print(row.study_id)\n",
        "\n",
        "def query_dataset(query):\n",
        "  # Run the query\n",
        "  query_job = client.query(query)\n",
        "\n",
        "  # Get the results\n",
        "  results = query_job.result()\n",
        "\n",
        "  # Process and extract the data\n",
        "  for row in results:\n",
        "    print(row) # process the row data\n",
        "\n",
        "def create_query(dataset, table):\n",
        "  project = 'physionet-data'\n",
        "  query = \"\"\"\n",
        "  SELECT *\n",
        "  FROM `{0}.{1}.{2}`\n",
        "  LIMIT 100\n",
        "  \"\"\".format(project, dataset, table)\n",
        "  return query\n",
        "\n",
        "def combine_tables():\n",
        "    # Define the dataset and tables of interest\n",
        "    dataset = 'mimic_cxr'\n",
        "    table1 = 'chexpert'\n",
        "    table2 = 'record_list'\n",
        "\n",
        "    # Create queries for table1 and table2\n",
        "    query1 = create_query(dataset, table1)\n",
        "    query2 = create_query(dataset, table2)\n",
        "\n",
        "    # Execute queries and get the results\n",
        "    results1 = query_dataset(query1)\n",
        "    results2 = query_dataset(query2)\n",
        "\n",
        "    # Create DataFrames from the query results\n",
        "    columns1 = ['subject_id', 'study_id', 'Atelectasis', 'Cardiomegaly', 'Consolidation', 'Edema',\n",
        "                'Enlarged_Cardiomediastinum', 'Fracture', 'Lung_Lesion', 'Lung_Opacity', 'No_Finding',\n",
        "                'Pleural_Effusion', 'Pleural_Other', 'Pneumonia', 'Pneumothorax', 'Support_Devices']\n",
        "    df1 = pd.DataFrame(results1, columns=columns1)\n",
        "\n",
        "    columns2 = ['subject_id', 'study_id', 'dicom_id', 'path']  # Specify the columns in table2\n",
        "    df2 = pd.DataFrame(results2, columns=columns2)\n",
        "\n",
        "    # Perform the join operation\n",
        "    combined_df = df1.merge(df2, on='study_id', how='inner')\n",
        "\n",
        "    return combined_df\n",
        "\n",
        "# Call the combine_tables function to get the combined DataFrame\n",
        "new_df = combined_dataframe = combine_tables()\n",
        "\n",
        "print(new_df.head)\n",
        "# Define the dataset and table of interest\n",
        "#dataset = 'mimic_cxr'\n",
        "#table1 = 'chexpert'\n",
        "#table2 = 'record_list'\n",
        "\n",
        "# query = create_query(dataset, table)\n",
        "\n",
        "\n",
        "# query_dataset(query)\n",
        "# extract_pneumonia_rows(query)"
      ],
      "metadata": {
        "id": "SwSmAVT5M19E",
        "outputId": "406a8582-4233-4b43-92b2-690771a9615a",
        "colab": {
          "base_uri": "https://localhost:8080/"
        }
      },
      "execution_count": 35,
      "outputs": [
        {
          "output_type": "stream",
          "name": "stdout",
          "text": [
            "Row((10000764, 57375967, None, None, 1.0, None, None, None, None, None, None, None, None, -1.0, None, None), {'subject_id': 0, 'study_id': 1, 'Atelectasis': 2, 'Cardiomegaly': 3, 'Consolidation': 4, 'Edema': 5, 'Enlarged_Cardiomediastinum': 6, 'Fracture': 7, 'Lung_Lesion': 8, 'Lung_Opacity': 9, 'No_Finding': 10, 'Pleural_Effusion': 11, 'Pleural_Other': 12, 'Pneumonia': 13, 'Pneumothorax': 14, 'Support_Devices': 15})\n",
            "Row((10000935, 51178377, None, None, None, None, None, None, None, 1.0, None, None, None, -1.0, None, None), {'subject_id': 0, 'study_id': 1, 'Atelectasis': 2, 'Cardiomegaly': 3, 'Consolidation': 4, 'Edema': 5, 'Enlarged_Cardiomediastinum': 6, 'Fracture': 7, 'Lung_Lesion': 8, 'Lung_Opacity': 9, 'No_Finding': 10, 'Pleural_Effusion': 11, 'Pleural_Other': 12, 'Pneumonia': 13, 'Pneumothorax': 14, 'Support_Devices': 15})\n",
            "Row((10000935, 56164612, None, None, None, None, None, None, 1.0, 1.0, None, None, None, None, None, None), {'subject_id': 0, 'study_id': 1, 'Atelectasis': 2, 'Cardiomegaly': 3, 'Consolidation': 4, 'Edema': 5, 'Enlarged_Cardiomediastinum': 6, 'Fracture': 7, 'Lung_Lesion': 8, 'Lung_Opacity': 9, 'No_Finding': 10, 'Pleural_Effusion': 11, 'Pleural_Other': 12, 'Pneumonia': 13, 'Pneumothorax': 14, 'Support_Devices': 15})\n",
            "Row((10000935, 56522600, None, 0.0, None, None, None, 1.0, None, None, None, None, None, None, None, None), {'subject_id': 0, 'study_id': 1, 'Atelectasis': 2, 'Cardiomegaly': 3, 'Consolidation': 4, 'Edema': 5, 'Enlarged_Cardiomediastinum': 6, 'Fracture': 7, 'Lung_Lesion': 8, 'Lung_Opacity': 9, 'No_Finding': 10, 'Pleural_Effusion': 11, 'Pleural_Other': 12, 'Pneumonia': 13, 'Pneumothorax': 14, 'Support_Devices': 15})\n",
            "Row((10000935, 58219844, None, None, None, -1.0, None, None, None, None, None, None, None, None, None, None), {'subject_id': 0, 'study_id': 1, 'Atelectasis': 2, 'Cardiomegaly': 3, 'Consolidation': 4, 'Edema': 5, 'Enlarged_Cardiomediastinum': 6, 'Fracture': 7, 'Lung_Lesion': 8, 'Lung_Opacity': 9, 'No_Finding': 10, 'Pleural_Effusion': 11, 'Pleural_Other': 12, 'Pneumonia': 13, 'Pneumothorax': 14, 'Support_Devices': 15})\n",
            "Row((10000980, 51967283, None, None, None, None, None, None, 1.0, None, None, None, None, 1.0, None, None), {'subject_id': 0, 'study_id': 1, 'Atelectasis': 2, 'Cardiomegaly': 3, 'Consolidation': 4, 'Edema': 5, 'Enlarged_Cardiomediastinum': 6, 'Fracture': 7, 'Lung_Lesion': 8, 'Lung_Opacity': 9, 'No_Finding': 10, 'Pleural_Effusion': 11, 'Pleural_Other': 12, 'Pneumonia': 13, 'Pneumothorax': 14, 'Support_Devices': 15})\n",
            "Row((10000980, 54935705, None, None, -1.0, 1.0, None, None, None, None, None, None, None, -1.0, None, None), {'subject_id': 0, 'study_id': 1, 'Atelectasis': 2, 'Cardiomegaly': 3, 'Consolidation': 4, 'Edema': 5, 'Enlarged_Cardiomediastinum': 6, 'Fracture': 7, 'Lung_Lesion': 8, 'Lung_Opacity': 9, 'No_Finding': 10, 'Pleural_Effusion': 11, 'Pleural_Other': 12, 'Pneumonia': 13, 'Pneumothorax': 14, 'Support_Devices': 15})\n",
            "Row((10001176, 53186264, -1.0, None, None, None, None, None, None, 1.0, None, None, None, 0.0, None, None), {'subject_id': 0, 'study_id': 1, 'Atelectasis': 2, 'Cardiomegaly': 3, 'Consolidation': 4, 'Edema': 5, 'Enlarged_Cardiomediastinum': 6, 'Fracture': 7, 'Lung_Lesion': 8, 'Lung_Opacity': 9, 'No_Finding': 10, 'Pleural_Effusion': 11, 'Pleural_Other': 12, 'Pneumonia': 13, 'Pneumothorax': 14, 'Support_Devices': 15})\n",
            "Row((10001176, 54684191, None, None, None, 1.0, None, None, None, None, None, None, None, None, None, None), {'subject_id': 0, 'study_id': 1, 'Atelectasis': 2, 'Cardiomegaly': 3, 'Consolidation': 4, 'Edema': 5, 'Enlarged_Cardiomediastinum': 6, 'Fracture': 7, 'Lung_Lesion': 8, 'Lung_Opacity': 9, 'No_Finding': 10, 'Pleural_Effusion': 11, 'Pleural_Other': 12, 'Pneumonia': 13, 'Pneumothorax': 14, 'Support_Devices': 15})\n",
            "Row((10001217, 52067803, 1.0, None, None, None, None, None, None, None, None, None, None, None, None, None), {'subject_id': 0, 'study_id': 1, 'Atelectasis': 2, 'Cardiomegaly': 3, 'Consolidation': 4, 'Edema': 5, 'Enlarged_Cardiomediastinum': 6, 'Fracture': 7, 'Lung_Lesion': 8, 'Lung_Opacity': 9, 'No_Finding': 10, 'Pleural_Effusion': 11, 'Pleural_Other': 12, 'Pneumonia': 13, 'Pneumothorax': 14, 'Support_Devices': 15})\n",
            "Row((10001217, 58913004, None, 1.0, None, None, None, None, None, None, None, None, None, None, 1.0, 1.0), {'subject_id': 0, 'study_id': 1, 'Atelectasis': 2, 'Cardiomegaly': 3, 'Consolidation': 4, 'Edema': 5, 'Enlarged_Cardiomediastinum': 6, 'Fracture': 7, 'Lung_Lesion': 8, 'Lung_Opacity': 9, 'No_Finding': 10, 'Pleural_Effusion': 11, 'Pleural_Other': 12, 'Pneumonia': 13, 'Pneumothorax': 14, 'Support_Devices': 15})\n",
            "Row((10001401, 51065211, 1.0, None, None, None, None, None, None, None, None, None, None, None, None, None), {'subject_id': 0, 'study_id': 1, 'Atelectasis': 2, 'Cardiomegaly': 3, 'Consolidation': 4, 'Edema': 5, 'Enlarged_Cardiomediastinum': 6, 'Fracture': 7, 'Lung_Lesion': 8, 'Lung_Opacity': 9, 'No_Finding': 10, 'Pleural_Effusion': 11, 'Pleural_Other': 12, 'Pneumonia': 13, 'Pneumothorax': 14, 'Support_Devices': 15})\n",
            "Row((10001401, 55350604, None, 1.0, None, None, None, None, None, None, None, None, None, None, None, None), {'subject_id': 0, 'study_id': 1, 'Atelectasis': 2, 'Cardiomegaly': 3, 'Consolidation': 4, 'Edema': 5, 'Enlarged_Cardiomediastinum': 6, 'Fracture': 7, 'Lung_Lesion': 8, 'Lung_Opacity': 9, 'No_Finding': 10, 'Pleural_Effusion': 11, 'Pleural_Other': 12, 'Pneumonia': 13, 'Pneumothorax': 14, 'Support_Devices': 15})\n",
            "Row((10001884, 50376803, None, 1.0, -1.0, None, None, None, None, -1.0, None, None, None, None, 0.0, 1.0), {'subject_id': 0, 'study_id': 1, 'Atelectasis': 2, 'Cardiomegaly': 3, 'Consolidation': 4, 'Edema': 5, 'Enlarged_Cardiomediastinum': 6, 'Fracture': 7, 'Lung_Lesion': 8, 'Lung_Opacity': 9, 'No_Finding': 10, 'Pleural_Effusion': 11, 'Pleural_Other': 12, 'Pneumonia': 13, 'Pneumothorax': 14, 'Support_Devices': 15})\n",
            "Row((10001884, 50807032, None, None, 0.0, None, None, None, None, None, None, None, None, 1.0, None, None), {'subject_id': 0, 'study_id': 1, 'Atelectasis': 2, 'Cardiomegaly': 3, 'Consolidation': 4, 'Edema': 5, 'Enlarged_Cardiomediastinum': 6, 'Fracture': 7, 'Lung_Lesion': 8, 'Lung_Opacity': 9, 'No_Finding': 10, 'Pleural_Effusion': 11, 'Pleural_Other': 12, 'Pneumonia': 13, 'Pneumothorax': 14, 'Support_Devices': 15})\n",
            "Row((10001884, 51817555, None, None, 0.0, None, None, None, None, 1.0, None, None, None, None, None, None), {'subject_id': 0, 'study_id': 1, 'Atelectasis': 2, 'Cardiomegaly': 3, 'Consolidation': 4, 'Edema': 5, 'Enlarged_Cardiomediastinum': 6, 'Fracture': 7, 'Lung_Lesion': 8, 'Lung_Opacity': 9, 'No_Finding': 10, 'Pleural_Effusion': 11, 'Pleural_Other': 12, 'Pneumonia': 13, 'Pneumothorax': 14, 'Support_Devices': 15})\n",
            "Row((10001884, 53109065, 1.0, None, 0.0, None, None, None, None, None, None, None, None, None, None, None), {'subject_id': 0, 'study_id': 1, 'Atelectasis': 2, 'Cardiomegaly': 3, 'Consolidation': 4, 'Edema': 5, 'Enlarged_Cardiomediastinum': 6, 'Fracture': 7, 'Lung_Lesion': 8, 'Lung_Opacity': 9, 'No_Finding': 10, 'Pleural_Effusion': 11, 'Pleural_Other': 12, 'Pneumonia': 13, 'Pneumothorax': 14, 'Support_Devices': 15})\n",
            "Row((10001884, 53268982, None, None, None, None, None, None, None, 1.0, None, None, None, -1.0, None, None), {'subject_id': 0, 'study_id': 1, 'Atelectasis': 2, 'Cardiomegaly': 3, 'Consolidation': 4, 'Edema': 5, 'Enlarged_Cardiomediastinum': 6, 'Fracture': 7, 'Lung_Lesion': 8, 'Lung_Opacity': 9, 'No_Finding': 10, 'Pleural_Effusion': 11, 'Pleural_Other': 12, 'Pneumonia': 13, 'Pneumothorax': 14, 'Support_Devices': 15})\n",
            "Row((10001884, 55333410, None, 1.0, None, None, None, None, None, None, None, None, None, None, None, None), {'subject_id': 0, 'study_id': 1, 'Atelectasis': 2, 'Cardiomegaly': 3, 'Consolidation': 4, 'Edema': 5, 'Enlarged_Cardiomediastinum': 6, 'Fracture': 7, 'Lung_Lesion': 8, 'Lung_Opacity': 9, 'No_Finding': 10, 'Pleural_Effusion': 11, 'Pleural_Other': 12, 'Pneumonia': 13, 'Pneumothorax': 14, 'Support_Devices': 15})\n",
            "Row((10001884, 56308417, -1.0, None, None, None, None, None, None, 1.0, None, None, None, -1.0, None, None), {'subject_id': 0, 'study_id': 1, 'Atelectasis': 2, 'Cardiomegaly': 3, 'Consolidation': 4, 'Edema': 5, 'Enlarged_Cardiomediastinum': 6, 'Fracture': 7, 'Lung_Lesion': 8, 'Lung_Opacity': 9, 'No_Finding': 10, 'Pleural_Effusion': 11, 'Pleural_Other': 12, 'Pneumonia': 13, 'Pneumothorax': 14, 'Support_Devices': 15})\n",
            "Row((10001884, 56349965, 1.0, None, None, None, None, None, None, None, None, None, None, 0.0, None, None), {'subject_id': 0, 'study_id': 1, 'Atelectasis': 2, 'Cardiomegaly': 3, 'Consolidation': 4, 'Edema': 5, 'Enlarged_Cardiomediastinum': 6, 'Fracture': 7, 'Lung_Lesion': 8, 'Lung_Opacity': 9, 'No_Finding': 10, 'Pleural_Effusion': 11, 'Pleural_Other': 12, 'Pneumonia': 13, 'Pneumothorax': 14, 'Support_Devices': 15})\n",
            "Row((10001884, 57156853, None, None, None, 1.0, None, None, None, None, None, None, None, None, None, None), {'subject_id': 0, 'study_id': 1, 'Atelectasis': 2, 'Cardiomegaly': 3, 'Consolidation': 4, 'Edema': 5, 'Enlarged_Cardiomediastinum': 6, 'Fracture': 7, 'Lung_Lesion': 8, 'Lung_Opacity': 9, 'No_Finding': 10, 'Pleural_Effusion': 11, 'Pleural_Other': 12, 'Pneumonia': 13, 'Pneumothorax': 14, 'Support_Devices': 15})\n",
            "Row((10001884, 58788638, 1.0, None, None, None, None, None, None, None, None, None, None, None, None, None), {'subject_id': 0, 'study_id': 1, 'Atelectasis': 2, 'Cardiomegaly': 3, 'Consolidation': 4, 'Edema': 5, 'Enlarged_Cardiomediastinum': 6, 'Fracture': 7, 'Lung_Lesion': 8, 'Lung_Opacity': 9, 'No_Finding': 10, 'Pleural_Effusion': 11, 'Pleural_Other': 12, 'Pneumonia': 13, 'Pneumothorax': 14, 'Support_Devices': 15})\n",
            "Row((10002013, 55941092, None, None, None, None, None, -1.0, None, None, None, None, None, None, None, None), {'subject_id': 0, 'study_id': 1, 'Atelectasis': 2, 'Cardiomegaly': 3, 'Consolidation': 4, 'Edema': 5, 'Enlarged_Cardiomediastinum': 6, 'Fracture': 7, 'Lung_Lesion': 8, 'Lung_Opacity': 9, 'No_Finding': 10, 'Pleural_Effusion': 11, 'Pleural_Other': 12, 'Pneumonia': 13, 'Pneumothorax': 14, 'Support_Devices': 15})\n",
            "Row((10002013, 57741292, 1.0, None, None, None, None, None, None, None, None, None, None, None, 0.0, 1.0), {'subject_id': 0, 'study_id': 1, 'Atelectasis': 2, 'Cardiomegaly': 3, 'Consolidation': 4, 'Edema': 5, 'Enlarged_Cardiomediastinum': 6, 'Fracture': 7, 'Lung_Lesion': 8, 'Lung_Opacity': 9, 'No_Finding': 10, 'Pleural_Effusion': 11, 'Pleural_Other': 12, 'Pneumonia': 13, 'Pneumothorax': 14, 'Support_Devices': 15})\n",
            "Row((10002428, 56100138, None, None, None, 1.0, None, None, None, 1.0, None, None, None, -1.0, None, None), {'subject_id': 0, 'study_id': 1, 'Atelectasis': 2, 'Cardiomegaly': 3, 'Consolidation': 4, 'Edema': 5, 'Enlarged_Cardiomediastinum': 6, 'Fracture': 7, 'Lung_Lesion': 8, 'Lung_Opacity': 9, 'No_Finding': 10, 'Pleural_Effusion': 11, 'Pleural_Other': 12, 'Pneumonia': 13, 'Pneumothorax': 14, 'Support_Devices': 15})\n",
            "Row((10002428, 57321224, None, None, None, None, None, None, None, None, None, None, None, None, None, None), {'subject_id': 0, 'study_id': 1, 'Atelectasis': 2, 'Cardiomegaly': 3, 'Consolidation': 4, 'Edema': 5, 'Enlarged_Cardiomediastinum': 6, 'Fracture': 7, 'Lung_Lesion': 8, 'Lung_Opacity': 9, 'No_Finding': 10, 'Pleural_Effusion': 11, 'Pleural_Other': 12, 'Pneumonia': 13, 'Pneumothorax': 14, 'Support_Devices': 15})\n",
            "Row((10002428, 59015983, None, None, None, None, None, None, None, None, None, None, None, 1.0, None, None), {'subject_id': 0, 'study_id': 1, 'Atelectasis': 2, 'Cardiomegaly': 3, 'Consolidation': 4, 'Edema': 5, 'Enlarged_Cardiomediastinum': 6, 'Fracture': 7, 'Lung_Lesion': 8, 'Lung_Opacity': 9, 'No_Finding': 10, 'Pleural_Effusion': 11, 'Pleural_Other': 12, 'Pneumonia': 13, 'Pneumothorax': 14, 'Support_Devices': 15})\n",
            "Row((10002430, 53254222, None, 1.0, None, 0.0, None, None, None, None, None, None, None, 0.0, None, None), {'subject_id': 0, 'study_id': 1, 'Atelectasis': 2, 'Cardiomegaly': 3, 'Consolidation': 4, 'Edema': 5, 'Enlarged_Cardiomediastinum': 6, 'Fracture': 7, 'Lung_Lesion': 8, 'Lung_Opacity': 9, 'No_Finding': 10, 'Pleural_Effusion': 11, 'Pleural_Other': 12, 'Pneumonia': 13, 'Pneumothorax': 14, 'Support_Devices': 15})\n",
            "Row((10002430, 56345275, None, None, None, None, None, None, None, 1.0, None, None, None, None, None, None), {'subject_id': 0, 'study_id': 1, 'Atelectasis': 2, 'Cardiomegaly': 3, 'Consolidation': 4, 'Edema': 5, 'Enlarged_Cardiomediastinum': 6, 'Fracture': 7, 'Lung_Lesion': 8, 'Lung_Opacity': 9, 'No_Finding': 10, 'Pleural_Effusion': 11, 'Pleural_Other': 12, 'Pneumonia': 13, 'Pneumothorax': 14, 'Support_Devices': 15})\n",
            "Row((10002430, 58911492, None, 1.0, None, None, None, None, None, None, None, None, None, 0.0, None, None), {'subject_id': 0, 'study_id': 1, 'Atelectasis': 2, 'Cardiomegaly': 3, 'Consolidation': 4, 'Edema': 5, 'Enlarged_Cardiomediastinum': 6, 'Fracture': 7, 'Lung_Lesion': 8, 'Lung_Opacity': 9, 'No_Finding': 10, 'Pleural_Effusion': 11, 'Pleural_Other': 12, 'Pneumonia': 13, 'Pneumothorax': 14, 'Support_Devices': 15})\n",
            "Row((10002930, 55885481, 1.0, None, None, None, None, 1.0, None, None, None, None, None, None, None, None), {'subject_id': 0, 'study_id': 1, 'Atelectasis': 2, 'Cardiomegaly': 3, 'Consolidation': 4, 'Edema': 5, 'Enlarged_Cardiomediastinum': 6, 'Fracture': 7, 'Lung_Lesion': 8, 'Lung_Opacity': 9, 'No_Finding': 10, 'Pleural_Effusion': 11, 'Pleural_Other': 12, 'Pneumonia': 13, 'Pneumothorax': 14, 'Support_Devices': 15})\n",
            "Row((10003019, 50543252, 1.0, None, -1.0, None, None, None, None, 1.0, None, None, None, 1.0, None, None), {'subject_id': 0, 'study_id': 1, 'Atelectasis': 2, 'Cardiomegaly': 3, 'Consolidation': 4, 'Edema': 5, 'Enlarged_Cardiomediastinum': 6, 'Fracture': 7, 'Lung_Lesion': 8, 'Lung_Opacity': 9, 'No_Finding': 10, 'Pleural_Effusion': 11, 'Pleural_Other': 12, 'Pneumonia': 13, 'Pneumothorax': 14, 'Support_Devices': 15})\n",
            "Row((10003019, 52117631, 1.0, 0.0, None, 0.0, None, None, 1.0, 1.0, None, None, 1.0, 0.0, None, None), {'subject_id': 0, 'study_id': 1, 'Atelectasis': 2, 'Cardiomegaly': 3, 'Consolidation': 4, 'Edema': 5, 'Enlarged_Cardiomediastinum': 6, 'Fracture': 7, 'Lung_Lesion': 8, 'Lung_Opacity': 9, 'No_Finding': 10, 'Pleural_Effusion': 11, 'Pleural_Other': 12, 'Pneumonia': 13, 'Pneumothorax': 14, 'Support_Devices': 15})\n",
            "Row((10003019, 53934356, 1.0, None, None, None, None, None, None, None, None, None, None, 0.0, None, None), {'subject_id': 0, 'study_id': 1, 'Atelectasis': 2, 'Cardiomegaly': 3, 'Consolidation': 4, 'Edema': 5, 'Enlarged_Cardiomediastinum': 6, 'Fracture': 7, 'Lung_Lesion': 8, 'Lung_Opacity': 9, 'No_Finding': 10, 'Pleural_Effusion': 11, 'Pleural_Other': 12, 'Pneumonia': 13, 'Pneumothorax': 14, 'Support_Devices': 15})\n",
            "Row((10003019, 55931751, None, None, None, None, None, None, 1.0, 1.0, None, None, None, None, None, None), {'subject_id': 0, 'study_id': 1, 'Atelectasis': 2, 'Cardiomegaly': 3, 'Consolidation': 4, 'Edema': 5, 'Enlarged_Cardiomediastinum': 6, 'Fracture': 7, 'Lung_Lesion': 8, 'Lung_Opacity': 9, 'No_Finding': 10, 'Pleural_Effusion': 11, 'Pleural_Other': 12, 'Pneumonia': 13, 'Pneumothorax': 14, 'Support_Devices': 15})\n",
            "Row((10003019, 56635465, None, None, None, None, None, None, -1.0, None, None, None, None, None, None, None), {'subject_id': 0, 'study_id': 1, 'Atelectasis': 2, 'Cardiomegaly': 3, 'Consolidation': 4, 'Edema': 5, 'Enlarged_Cardiomediastinum': 6, 'Fracture': 7, 'Lung_Lesion': 8, 'Lung_Opacity': 9, 'No_Finding': 10, 'Pleural_Effusion': 11, 'Pleural_Other': 12, 'Pneumonia': 13, 'Pneumothorax': 14, 'Support_Devices': 15})\n",
            "Row((10003019, 57194088, None, None, None, None, None, None, None, 1.0, None, None, None, -1.0, None, None), {'subject_id': 0, 'study_id': 1, 'Atelectasis': 2, 'Cardiomegaly': 3, 'Consolidation': 4, 'Edema': 5, 'Enlarged_Cardiomediastinum': 6, 'Fracture': 7, 'Lung_Lesion': 8, 'Lung_Opacity': 9, 'No_Finding': 10, 'Pleural_Effusion': 11, 'Pleural_Other': 12, 'Pneumonia': 13, 'Pneumothorax': 14, 'Support_Devices': 15})\n",
            "Row((10003019, 58365492, None, None, 1.0, None, None, None, 1.0, None, None, None, None, -1.0, None, None), {'subject_id': 0, 'study_id': 1, 'Atelectasis': 2, 'Cardiomegaly': 3, 'Consolidation': 4, 'Edema': 5, 'Enlarged_Cardiomediastinum': 6, 'Fracture': 7, 'Lung_Lesion': 8, 'Lung_Opacity': 9, 'No_Finding': 10, 'Pleural_Effusion': 11, 'Pleural_Other': 12, 'Pneumonia': 13, 'Pneumothorax': 14, 'Support_Devices': 15})\n",
            "Row((10003019, 59635047, None, -1.0, None, -1.0, None, None, None, None, None, None, None, -1.0, None, None), {'subject_id': 0, 'study_id': 1, 'Atelectasis': 2, 'Cardiomegaly': 3, 'Consolidation': 4, 'Edema': 5, 'Enlarged_Cardiomediastinum': 6, 'Fracture': 7, 'Lung_Lesion': 8, 'Lung_Opacity': 9, 'No_Finding': 10, 'Pleural_Effusion': 11, 'Pleural_Other': 12, 'Pneumonia': 13, 'Pneumothorax': 14, 'Support_Devices': 15})\n",
            "Row((10003019, 59829602, None, None, None, None, None, None, None, None, None, None, None, None, None, None), {'subject_id': 0, 'study_id': 1, 'Atelectasis': 2, 'Cardiomegaly': 3, 'Consolidation': 4, 'Edema': 5, 'Enlarged_Cardiomediastinum': 6, 'Fracture': 7, 'Lung_Lesion': 8, 'Lung_Opacity': 9, 'No_Finding': 10, 'Pleural_Effusion': 11, 'Pleural_Other': 12, 'Pneumonia': 13, 'Pneumothorax': 14, 'Support_Devices': 15})\n",
            "Row((10003255, 52843603, None, 0.0, None, None, None, None, None, None, None, None, None, None, None, None), {'subject_id': 0, 'study_id': 1, 'Atelectasis': 2, 'Cardiomegaly': 3, 'Consolidation': 4, 'Edema': 5, 'Enlarged_Cardiomediastinum': 6, 'Fracture': 7, 'Lung_Lesion': 8, 'Lung_Opacity': 9, 'No_Finding': 10, 'Pleural_Effusion': 11, 'Pleural_Other': 12, 'Pneumonia': 13, 'Pneumothorax': 14, 'Support_Devices': 15})\n",
            "Row((10003299, 57344656, None, 1.0, None, None, None, None, None, None, None, None, None, None, None, None), {'subject_id': 0, 'study_id': 1, 'Atelectasis': 2, 'Cardiomegaly': 3, 'Consolidation': 4, 'Edema': 5, 'Enlarged_Cardiomediastinum': 6, 'Fracture': 7, 'Lung_Lesion': 8, 'Lung_Opacity': 9, 'No_Finding': 10, 'Pleural_Effusion': 11, 'Pleural_Other': 12, 'Pneumonia': 13, 'Pneumothorax': 14, 'Support_Devices': 15})\n",
            "Row((10003400, 51127691, None, None, None, None, None, None, None, None, None, None, None, None, 1.0, 1.0), {'subject_id': 0, 'study_id': 1, 'Atelectasis': 2, 'Cardiomegaly': 3, 'Consolidation': 4, 'Edema': 5, 'Enlarged_Cardiomediastinum': 6, 'Fracture': 7, 'Lung_Lesion': 8, 'Lung_Opacity': 9, 'No_Finding': 10, 'Pleural_Effusion': 11, 'Pleural_Other': 12, 'Pneumonia': 13, 'Pneumothorax': 14, 'Support_Devices': 15})\n",
            "Row((10003400, 52437868, None, 1.0, None, None, None, None, None, None, None, None, None, None, None, 1.0), {'subject_id': 0, 'study_id': 1, 'Atelectasis': 2, 'Cardiomegaly': 3, 'Consolidation': 4, 'Edema': 5, 'Enlarged_Cardiomediastinum': 6, 'Fracture': 7, 'Lung_Lesion': 8, 'Lung_Opacity': 9, 'No_Finding': 10, 'Pleural_Effusion': 11, 'Pleural_Other': 12, 'Pneumonia': 13, 'Pneumothorax': 14, 'Support_Devices': 15})\n",
            "Row((10003400, 52822559, None, 1.0, None, -1.0, None, None, None, None, None, None, None, 0.0, None, None), {'subject_id': 0, 'study_id': 1, 'Atelectasis': 2, 'Cardiomegaly': 3, 'Consolidation': 4, 'Edema': 5, 'Enlarged_Cardiomediastinum': 6, 'Fracture': 7, 'Lung_Lesion': 8, 'Lung_Opacity': 9, 'No_Finding': 10, 'Pleural_Effusion': 11, 'Pleural_Other': 12, 'Pneumonia': 13, 'Pneumothorax': 14, 'Support_Devices': 15})\n",
            "Row((10003400, 52941169, None, None, 1.0, -1.0, 1.0, None, 1.0, 1.0, None, None, None, None, None, 1.0), {'subject_id': 0, 'study_id': 1, 'Atelectasis': 2, 'Cardiomegaly': 3, 'Consolidation': 4, 'Edema': 5, 'Enlarged_Cardiomediastinum': 6, 'Fracture': 7, 'Lung_Lesion': 8, 'Lung_Opacity': 9, 'No_Finding': 10, 'Pleural_Effusion': 11, 'Pleural_Other': 12, 'Pneumonia': 13, 'Pneumothorax': 14, 'Support_Devices': 15})\n",
            "Row((10003400, 59336915, None, 1.0, None, 0.0, None, None, None, None, None, None, None, None, None, None), {'subject_id': 0, 'study_id': 1, 'Atelectasis': 2, 'Cardiomegaly': 3, 'Consolidation': 4, 'Edema': 5, 'Enlarged_Cardiomediastinum': 6, 'Fracture': 7, 'Lung_Lesion': 8, 'Lung_Opacity': 9, 'No_Finding': 10, 'Pleural_Effusion': 11, 'Pleural_Other': 12, 'Pneumonia': 13, 'Pneumothorax': 14, 'Support_Devices': 15})\n",
            "Row((10003502, 53836463, None, -1.0, None, 1.0, None, None, None, None, None, None, None, None, None, None), {'subject_id': 0, 'study_id': 1, 'Atelectasis': 2, 'Cardiomegaly': 3, 'Consolidation': 4, 'Edema': 5, 'Enlarged_Cardiomediastinum': 6, 'Fracture': 7, 'Lung_Lesion': 8, 'Lung_Opacity': 9, 'No_Finding': 10, 'Pleural_Effusion': 11, 'Pleural_Other': 12, 'Pneumonia': 13, 'Pneumothorax': 14, 'Support_Devices': 15})\n",
            "Row((10003637, 51371378, None, 1.0, None, -1.0, None, None, None, None, None, None, None, 0.0, None, None), {'subject_id': 0, 'study_id': 1, 'Atelectasis': 2, 'Cardiomegaly': 3, 'Consolidation': 4, 'Edema': 5, 'Enlarged_Cardiomediastinum': 6, 'Fracture': 7, 'Lung_Lesion': 8, 'Lung_Opacity': 9, 'No_Finding': 10, 'Pleural_Effusion': 11, 'Pleural_Other': 12, 'Pneumonia': 13, 'Pneumothorax': 14, 'Support_Devices': 15})\n",
            "Row((10004235, 52379321, 1.0, None, None, -1.0, 1.0, None, None, None, None, None, None, None, None, 1.0), {'subject_id': 0, 'study_id': 1, 'Atelectasis': 2, 'Cardiomegaly': 3, 'Consolidation': 4, 'Edema': 5, 'Enlarged_Cardiomediastinum': 6, 'Fracture': 7, 'Lung_Lesion': 8, 'Lung_Opacity': 9, 'No_Finding': 10, 'Pleural_Effusion': 11, 'Pleural_Other': 12, 'Pneumonia': 13, 'Pneumothorax': 14, 'Support_Devices': 15})\n",
            "Row((10004235, 52962553, None, None, None, 1.0, None, None, None, 1.0, None, None, None, 1.0, None, None), {'subject_id': 0, 'study_id': 1, 'Atelectasis': 2, 'Cardiomegaly': 3, 'Consolidation': 4, 'Edema': 5, 'Enlarged_Cardiomediastinum': 6, 'Fracture': 7, 'Lung_Lesion': 8, 'Lung_Opacity': 9, 'No_Finding': 10, 'Pleural_Effusion': 11, 'Pleural_Other': 12, 'Pneumonia': 13, 'Pneumothorax': 14, 'Support_Devices': 15})\n",
            "Row((10004235, 57318275, None, 1.0, None, 1.0, None, None, None, None, None, None, None, None, None, 1.0), {'subject_id': 0, 'study_id': 1, 'Atelectasis': 2, 'Cardiomegaly': 3, 'Consolidation': 4, 'Edema': 5, 'Enlarged_Cardiomediastinum': 6, 'Fracture': 7, 'Lung_Lesion': 8, 'Lung_Opacity': 9, 'No_Finding': 10, 'Pleural_Effusion': 11, 'Pleural_Other': 12, 'Pneumonia': 13, 'Pneumothorax': 14, 'Support_Devices': 15})\n",
            "Row((10004235, 57921415, None, 1.0, None, None, None, None, None, 1.0, None, None, None, None, None, 1.0), {'subject_id': 0, 'study_id': 1, 'Atelectasis': 2, 'Cardiomegaly': 3, 'Consolidation': 4, 'Edema': 5, 'Enlarged_Cardiomediastinum': 6, 'Fracture': 7, 'Lung_Lesion': 8, 'Lung_Opacity': 9, 'No_Finding': 10, 'Pleural_Effusion': 11, 'Pleural_Other': 12, 'Pneumonia': 13, 'Pneumothorax': 14, 'Support_Devices': 15})\n",
            "Row((10004235, 58604118, None, -1.0, None, 1.0, None, None, None, 1.0, None, None, None, None, None, None), {'subject_id': 0, 'study_id': 1, 'Atelectasis': 2, 'Cardiomegaly': 3, 'Consolidation': 4, 'Edema': 5, 'Enlarged_Cardiomediastinum': 6, 'Fracture': 7, 'Lung_Lesion': 8, 'Lung_Opacity': 9, 'No_Finding': 10, 'Pleural_Effusion': 11, 'Pleural_Other': 12, 'Pneumonia': 13, 'Pneumothorax': 14, 'Support_Devices': 15})\n",
            "Row((10004235, 59895508, None, None, None, -1.0, -1.0, None, None, 1.0, None, None, None, None, None, None), {'subject_id': 0, 'study_id': 1, 'Atelectasis': 2, 'Cardiomegaly': 3, 'Consolidation': 4, 'Edema': 5, 'Enlarged_Cardiomediastinum': 6, 'Fracture': 7, 'Lung_Lesion': 8, 'Lung_Opacity': 9, 'No_Finding': 10, 'Pleural_Effusion': 11, 'Pleural_Other': 12, 'Pneumonia': 13, 'Pneumothorax': 14, 'Support_Devices': 15})\n",
            "Row((10004322, 57662923, -1.0, None, None, None, None, None, None, 1.0, None, None, None, -1.0, None, None), {'subject_id': 0, 'study_id': 1, 'Atelectasis': 2, 'Cardiomegaly': 3, 'Consolidation': 4, 'Edema': 5, 'Enlarged_Cardiomediastinum': 6, 'Fracture': 7, 'Lung_Lesion': 8, 'Lung_Opacity': 9, 'No_Finding': 10, 'Pleural_Effusion': 11, 'Pleural_Other': 12, 'Pneumonia': 13, 'Pneumothorax': 14, 'Support_Devices': 15})\n",
            "Row((10004720, 59238247, None, None, None, None, None, 1.0, None, None, None, None, None, 0.0, None, None), {'subject_id': 0, 'study_id': 1, 'Atelectasis': 2, 'Cardiomegaly': 3, 'Consolidation': 4, 'Edema': 5, 'Enlarged_Cardiomediastinum': 6, 'Fracture': 7, 'Lung_Lesion': 8, 'Lung_Opacity': 9, 'No_Finding': 10, 'Pleural_Effusion': 11, 'Pleural_Other': 12, 'Pneumonia': 13, 'Pneumothorax': 14, 'Support_Devices': 15})\n",
            "Row((10005368, 56689183, None, None, None, None, None, None, None, None, None, None, None, None, 1.0, None), {'subject_id': 0, 'study_id': 1, 'Atelectasis': 2, 'Cardiomegaly': 3, 'Consolidation': 4, 'Edema': 5, 'Enlarged_Cardiomediastinum': 6, 'Fracture': 7, 'Lung_Lesion': 8, 'Lung_Opacity': 9, 'No_Finding': 10, 'Pleural_Effusion': 11, 'Pleural_Other': 12, 'Pneumonia': 13, 'Pneumothorax': 14, 'Support_Devices': 15})\n",
            "Row((10005368, 57426090, None, 0.0, None, None, None, None, None, None, None, None, None, None, 1.0, None), {'subject_id': 0, 'study_id': 1, 'Atelectasis': 2, 'Cardiomegaly': 3, 'Consolidation': 4, 'Edema': 5, 'Enlarged_Cardiomediastinum': 6, 'Fracture': 7, 'Lung_Lesion': 8, 'Lung_Opacity': 9, 'No_Finding': 10, 'Pleural_Effusion': 11, 'Pleural_Other': 12, 'Pneumonia': 13, 'Pneumothorax': 14, 'Support_Devices': 15})\n",
            "Row((10005858, 58867217, None, None, None, None, None, None, None, None, None, None, None, None, None, None), {'subject_id': 0, 'study_id': 1, 'Atelectasis': 2, 'Cardiomegaly': 3, 'Consolidation': 4, 'Edema': 5, 'Enlarged_Cardiomediastinum': 6, 'Fracture': 7, 'Lung_Lesion': 8, 'Lung_Opacity': 9, 'No_Finding': 10, 'Pleural_Effusion': 11, 'Pleural_Other': 12, 'Pneumonia': 13, 'Pneumothorax': 14, 'Support_Devices': 15})\n",
            "Row((10005866, 55665483, None, None, 1.0, 1.0, None, None, None, None, None, None, None, None, None, None), {'subject_id': 0, 'study_id': 1, 'Atelectasis': 2, 'Cardiomegaly': 3, 'Consolidation': 4, 'Edema': 5, 'Enlarged_Cardiomediastinum': 6, 'Fracture': 7, 'Lung_Lesion': 8, 'Lung_Opacity': 9, 'No_Finding': 10, 'Pleural_Effusion': 11, 'Pleural_Other': 12, 'Pneumonia': 13, 'Pneumothorax': 14, 'Support_Devices': 15})\n",
            "Row((10006431, 50208870, None, 0.0, None, 0.0, None, None, None, None, None, None, None, 0.0, None, None), {'subject_id': 0, 'study_id': 1, 'Atelectasis': 2, 'Cardiomegaly': 3, 'Consolidation': 4, 'Edema': 5, 'Enlarged_Cardiomediastinum': 6, 'Fracture': 7, 'Lung_Lesion': 8, 'Lung_Opacity': 9, 'No_Finding': 10, 'Pleural_Effusion': 11, 'Pleural_Other': 12, 'Pneumonia': 13, 'Pneumothorax': 14, 'Support_Devices': 15})\n",
            "Row((10007134, 56085843, None, None, None, None, None, 1.0, None, None, None, None, None, None, 0.0, None), {'subject_id': 0, 'study_id': 1, 'Atelectasis': 2, 'Cardiomegaly': 3, 'Consolidation': 4, 'Edema': 5, 'Enlarged_Cardiomediastinum': 6, 'Fracture': 7, 'Lung_Lesion': 8, 'Lung_Opacity': 9, 'No_Finding': 10, 'Pleural_Effusion': 11, 'Pleural_Other': 12, 'Pneumonia': 13, 'Pneumothorax': 14, 'Support_Devices': 15})\n",
            "Row((10007795, 54581957, 1.0, None, None, None, None, None, None, None, None, None, None, None, None, 1.0), {'subject_id': 0, 'study_id': 1, 'Atelectasis': 2, 'Cardiomegaly': 3, 'Consolidation': 4, 'Edema': 5, 'Enlarged_Cardiomediastinum': 6, 'Fracture': 7, 'Lung_Lesion': 8, 'Lung_Opacity': 9, 'No_Finding': 10, 'Pleural_Effusion': 11, 'Pleural_Other': 12, 'Pneumonia': 13, 'Pneumothorax': 14, 'Support_Devices': 15})\n",
            "Row((10007795, 57491780, 1.0, 0.0, None, None, None, None, None, None, None, None, None, None, 0.0, 1.0), {'subject_id': 0, 'study_id': 1, 'Atelectasis': 2, 'Cardiomegaly': 3, 'Consolidation': 4, 'Edema': 5, 'Enlarged_Cardiomediastinum': 6, 'Fracture': 7, 'Lung_Lesion': 8, 'Lung_Opacity': 9, 'No_Finding': 10, 'Pleural_Effusion': 11, 'Pleural_Other': 12, 'Pneumonia': 13, 'Pneumothorax': 14, 'Support_Devices': 15})\n",
            "Row((10007795, 58754452, 1.0, 1.0, None, 1.0, None, None, None, 1.0, None, None, None, None, None, 1.0), {'subject_id': 0, 'study_id': 1, 'Atelectasis': 2, 'Cardiomegaly': 3, 'Consolidation': 4, 'Edema': 5, 'Enlarged_Cardiomediastinum': 6, 'Fracture': 7, 'Lung_Lesion': 8, 'Lung_Opacity': 9, 'No_Finding': 10, 'Pleural_Effusion': 11, 'Pleural_Other': 12, 'Pneumonia': 13, 'Pneumothorax': 14, 'Support_Devices': 15})\n",
            "Row((10008816, 57984574, None, 0.0, None, 0.0, None, 1.0, None, 0.0, None, None, None, None, None, None), {'subject_id': 0, 'study_id': 1, 'Atelectasis': 2, 'Cardiomegaly': 3, 'Consolidation': 4, 'Edema': 5, 'Enlarged_Cardiomediastinum': 6, 'Fracture': 7, 'Lung_Lesion': 8, 'Lung_Opacity': 9, 'No_Finding': 10, 'Pleural_Effusion': 11, 'Pleural_Other': 12, 'Pneumonia': 13, 'Pneumothorax': 14, 'Support_Devices': 15})\n",
            "Row((10009049, 58922574, None, None, None, None, None, None, None, 1.0, None, None, None, -1.0, None, None), {'subject_id': 0, 'study_id': 1, 'Atelectasis': 2, 'Cardiomegaly': 3, 'Consolidation': 4, 'Edema': 5, 'Enlarged_Cardiomediastinum': 6, 'Fracture': 7, 'Lung_Lesion': 8, 'Lung_Opacity': 9, 'No_Finding': 10, 'Pleural_Effusion': 11, 'Pleural_Other': 12, 'Pneumonia': 13, 'Pneumothorax': 14, 'Support_Devices': 15})\n",
            "Row((10010253, 51434626, None, None, -1.0, None, None, None, None, None, None, None, None, None, None, None), {'subject_id': 0, 'study_id': 1, 'Atelectasis': 2, 'Cardiomegaly': 3, 'Consolidation': 4, 'Edema': 5, 'Enlarged_Cardiomediastinum': 6, 'Fracture': 7, 'Lung_Lesion': 8, 'Lung_Opacity': 9, 'No_Finding': 10, 'Pleural_Effusion': 11, 'Pleural_Other': 12, 'Pneumonia': 13, 'Pneumothorax': 14, 'Support_Devices': 15})\n",
            "Row((10010440, 56908581, -1.0, None, None, None, None, None, None, 1.0, None, None, None, -1.0, None, None), {'subject_id': 0, 'study_id': 1, 'Atelectasis': 2, 'Cardiomegaly': 3, 'Consolidation': 4, 'Edema': 5, 'Enlarged_Cardiomediastinum': 6, 'Fracture': 7, 'Lung_Lesion': 8, 'Lung_Opacity': 9, 'No_Finding': 10, 'Pleural_Effusion': 11, 'Pleural_Other': 12, 'Pneumonia': 13, 'Pneumothorax': 14, 'Support_Devices': 15})\n",
            "Row((10010440, 57693229, 1.0, None, None, None, None, None, None, None, None, None, None, None, None, None), {'subject_id': 0, 'study_id': 1, 'Atelectasis': 2, 'Cardiomegaly': 3, 'Consolidation': 4, 'Edema': 5, 'Enlarged_Cardiomediastinum': 6, 'Fracture': 7, 'Lung_Lesion': 8, 'Lung_Opacity': 9, 'No_Finding': 10, 'Pleural_Effusion': 11, 'Pleural_Other': 12, 'Pneumonia': 13, 'Pneumothorax': 14, 'Support_Devices': 15})\n",
            "Row((10010471, 51674194, None, None, None, 1.0, None, None, None, 1.0, None, None, None, None, None, None), {'subject_id': 0, 'study_id': 1, 'Atelectasis': 2, 'Cardiomegaly': 3, 'Consolidation': 4, 'Edema': 5, 'Enlarged_Cardiomediastinum': 6, 'Fracture': 7, 'Lung_Lesion': 8, 'Lung_Opacity': 9, 'No_Finding': 10, 'Pleural_Effusion': 11, 'Pleural_Other': 12, 'Pneumonia': 13, 'Pneumothorax': 14, 'Support_Devices': 15})\n",
            "Row((10010867, 57317515, None, 0.0, None, 0.0, None, None, None, 1.0, None, None, None, None, 0.0, 1.0), {'subject_id': 0, 'study_id': 1, 'Atelectasis': 2, 'Cardiomegaly': 3, 'Consolidation': 4, 'Edema': 5, 'Enlarged_Cardiomediastinum': 6, 'Fracture': 7, 'Lung_Lesion': 8, 'Lung_Opacity': 9, 'No_Finding': 10, 'Pleural_Effusion': 11, 'Pleural_Other': 12, 'Pneumonia': 13, 'Pneumothorax': 14, 'Support_Devices': 15})\n",
            "Row((10010867, 57662143, None, -1.0, None, None, None, None, None, None, None, None, None, None, 1.0, 0.0), {'subject_id': 0, 'study_id': 1, 'Atelectasis': 2, 'Cardiomegaly': 3, 'Consolidation': 4, 'Edema': 5, 'Enlarged_Cardiomediastinum': 6, 'Fracture': 7, 'Lung_Lesion': 8, 'Lung_Opacity': 9, 'No_Finding': 10, 'Pleural_Effusion': 11, 'Pleural_Other': 12, 'Pneumonia': 13, 'Pneumothorax': 14, 'Support_Devices': 15})\n",
            "Row((10011365, 54847293, None, None, None, -1.0, None, None, None, None, None, None, None, -1.0, None, None), {'subject_id': 0, 'study_id': 1, 'Atelectasis': 2, 'Cardiomegaly': 3, 'Consolidation': 4, 'Edema': 5, 'Enlarged_Cardiomediastinum': 6, 'Fracture': 7, 'Lung_Lesion': 8, 'Lung_Opacity': 9, 'No_Finding': 10, 'Pleural_Effusion': 11, 'Pleural_Other': 12, 'Pneumonia': 13, 'Pneumothorax': 14, 'Support_Devices': 15})\n",
            "Row((10011365, 56594284, None, 0.0, None, 0.0, 1.0, None, None, None, None, None, None, 0.0, None, None), {'subject_id': 0, 'study_id': 1, 'Atelectasis': 2, 'Cardiomegaly': 3, 'Consolidation': 4, 'Edema': 5, 'Enlarged_Cardiomediastinum': 6, 'Fracture': 7, 'Lung_Lesion': 8, 'Lung_Opacity': 9, 'No_Finding': 10, 'Pleural_Effusion': 11, 'Pleural_Other': 12, 'Pneumonia': 13, 'Pneumothorax': 14, 'Support_Devices': 15})\n",
            "Row((10011365, 59571128, 1.0, None, None, None, None, None, None, -1.0, None, None, None, 1.0, None, None), {'subject_id': 0, 'study_id': 1, 'Atelectasis': 2, 'Cardiomegaly': 3, 'Consolidation': 4, 'Edema': 5, 'Enlarged_Cardiomediastinum': 6, 'Fracture': 7, 'Lung_Lesion': 8, 'Lung_Opacity': 9, 'No_Finding': 10, 'Pleural_Effusion': 11, 'Pleural_Other': 12, 'Pneumonia': 13, 'Pneumothorax': 14, 'Support_Devices': 15})\n",
            "Row((10011607, 53604298, None, None, None, None, None, 1.0, None, None, None, None, None, None, None, None), {'subject_id': 0, 'study_id': 1, 'Atelectasis': 2, 'Cardiomegaly': 3, 'Consolidation': 4, 'Edema': 5, 'Enlarged_Cardiomediastinum': 6, 'Fracture': 7, 'Lung_Lesion': 8, 'Lung_Opacity': 9, 'No_Finding': 10, 'Pleural_Effusion': 11, 'Pleural_Other': 12, 'Pneumonia': 13, 'Pneumothorax': 14, 'Support_Devices': 15})\n",
            "Row((10011607, 55850863, None, None, None, None, None, None, 1.0, 1.0, None, None, None, None, None, None), {'subject_id': 0, 'study_id': 1, 'Atelectasis': 2, 'Cardiomegaly': 3, 'Consolidation': 4, 'Edema': 5, 'Enlarged_Cardiomediastinum': 6, 'Fracture': 7, 'Lung_Lesion': 8, 'Lung_Opacity': 9, 'No_Finding': 10, 'Pleural_Effusion': 11, 'Pleural_Other': 12, 'Pneumonia': 13, 'Pneumothorax': 14, 'Support_Devices': 15})\n",
            "Row((10011607, 59358789, None, None, None, None, None, -1.0, None, None, None, None, None, None, None, None), {'subject_id': 0, 'study_id': 1, 'Atelectasis': 2, 'Cardiomegaly': 3, 'Consolidation': 4, 'Edema': 5, 'Enlarged_Cardiomediastinum': 6, 'Fracture': 7, 'Lung_Lesion': 8, 'Lung_Opacity': 9, 'No_Finding': 10, 'Pleural_Effusion': 11, 'Pleural_Other': 12, 'Pneumonia': 13, 'Pneumothorax': 14, 'Support_Devices': 15})\n",
            "Row((10011668, 50539024, None, 1.0, None, 1.0, None, None, None, None, None, None, None, None, None, None), {'subject_id': 0, 'study_id': 1, 'Atelectasis': 2, 'Cardiomegaly': 3, 'Consolidation': 4, 'Edema': 5, 'Enlarged_Cardiomediastinum': 6, 'Fracture': 7, 'Lung_Lesion': 8, 'Lung_Opacity': 9, 'No_Finding': 10, 'Pleural_Effusion': 11, 'Pleural_Other': 12, 'Pneumonia': 13, 'Pneumothorax': 14, 'Support_Devices': 15})\n",
            "Row((10011668, 57069032, None, 1.0, None, -1.0, None, None, None, None, None, None, None, None, None, None), {'subject_id': 0, 'study_id': 1, 'Atelectasis': 2, 'Cardiomegaly': 3, 'Consolidation': 4, 'Edema': 5, 'Enlarged_Cardiomediastinum': 6, 'Fracture': 7, 'Lung_Lesion': 8, 'Lung_Opacity': 9, 'No_Finding': 10, 'Pleural_Effusion': 11, 'Pleural_Other': 12, 'Pneumonia': 13, 'Pneumothorax': 14, 'Support_Devices': 15})\n",
            "Row((10011938, 50109051, 1.0, None, 0.0, 0.0, None, None, None, None, None, None, None, None, None, None), {'subject_id': 0, 'study_id': 1, 'Atelectasis': 2, 'Cardiomegaly': 3, 'Consolidation': 4, 'Edema': 5, 'Enlarged_Cardiomediastinum': 6, 'Fracture': 7, 'Lung_Lesion': 8, 'Lung_Opacity': 9, 'No_Finding': 10, 'Pleural_Effusion': 11, 'Pleural_Other': 12, 'Pneumonia': 13, 'Pneumothorax': 14, 'Support_Devices': 15})\n",
            "Row((10011938, 51900145, 1.0, -1.0, 0.0, 1.0, None, None, None, 1.0, None, None, None, None, 0.0, None), {'subject_id': 0, 'study_id': 1, 'Atelectasis': 2, 'Cardiomegaly': 3, 'Consolidation': 4, 'Edema': 5, 'Enlarged_Cardiomediastinum': 6, 'Fracture': 7, 'Lung_Lesion': 8, 'Lung_Opacity': 9, 'No_Finding': 10, 'Pleural_Effusion': 11, 'Pleural_Other': 12, 'Pneumonia': 13, 'Pneumothorax': 14, 'Support_Devices': 15})\n",
            "Row((10011938, 54202121, None, -1.0, 0.0, 1.0, None, None, None, 1.0, None, None, None, None, 0.0, None), {'subject_id': 0, 'study_id': 1, 'Atelectasis': 2, 'Cardiomegaly': 3, 'Consolidation': 4, 'Edema': 5, 'Enlarged_Cardiomediastinum': 6, 'Fracture': 7, 'Lung_Lesion': 8, 'Lung_Opacity': 9, 'No_Finding': 10, 'Pleural_Effusion': 11, 'Pleural_Other': 12, 'Pneumonia': 13, 'Pneumothorax': 14, 'Support_Devices': 15})\n",
            "Row((10011938, 54231050, None, None, None, None, None, None, None, 1.0, None, None, None, None, None, None), {'subject_id': 0, 'study_id': 1, 'Atelectasis': 2, 'Cardiomegaly': 3, 'Consolidation': 4, 'Edema': 5, 'Enlarged_Cardiomediastinum': 6, 'Fracture': 7, 'Lung_Lesion': 8, 'Lung_Opacity': 9, 'No_Finding': 10, 'Pleural_Effusion': 11, 'Pleural_Other': 12, 'Pneumonia': 13, 'Pneumothorax': 14, 'Support_Devices': 15})\n",
            "Row((10011938, 55823081, None, None, None, 1.0, None, None, None, None, None, None, None, None, None, None), {'subject_id': 0, 'study_id': 1, 'Atelectasis': 2, 'Cardiomegaly': 3, 'Consolidation': 4, 'Edema': 5, 'Enlarged_Cardiomediastinum': 6, 'Fracture': 7, 'Lung_Lesion': 8, 'Lung_Opacity': 9, 'No_Finding': 10, 'Pleural_Effusion': 11, 'Pleural_Other': 12, 'Pneumonia': 13, 'Pneumothorax': 14, 'Support_Devices': 15})\n",
            "Row((10011938, 56362279, None, None, 0.0, 1.0, None, None, None, 1.0, None, None, None, None, None, None), {'subject_id': 0, 'study_id': 1, 'Atelectasis': 2, 'Cardiomegaly': 3, 'Consolidation': 4, 'Edema': 5, 'Enlarged_Cardiomediastinum': 6, 'Fracture': 7, 'Lung_Lesion': 8, 'Lung_Opacity': 9, 'No_Finding': 10, 'Pleural_Effusion': 11, 'Pleural_Other': 12, 'Pneumonia': 13, 'Pneumothorax': 14, 'Support_Devices': 15})\n",
            "Row((10012261, 50448244, None, None, None, 0.0, 1.0, None, None, None, None, None, None, None, 0.0, 1.0), {'subject_id': 0, 'study_id': 1, 'Atelectasis': 2, 'Cardiomegaly': 3, 'Consolidation': 4, 'Edema': 5, 'Enlarged_Cardiomediastinum': 6, 'Fracture': 7, 'Lung_Lesion': 8, 'Lung_Opacity': 9, 'No_Finding': 10, 'Pleural_Effusion': 11, 'Pleural_Other': 12, 'Pneumonia': 13, 'Pneumothorax': 14, 'Support_Devices': 15})\n",
            "Row((10012261, 51684817, None, None, None, None, None, None, None, 1.0, None, None, None, -1.0, None, 1.0), {'subject_id': 0, 'study_id': 1, 'Atelectasis': 2, 'Cardiomegaly': 3, 'Consolidation': 4, 'Edema': 5, 'Enlarged_Cardiomediastinum': 6, 'Fracture': 7, 'Lung_Lesion': 8, 'Lung_Opacity': 9, 'No_Finding': 10, 'Pleural_Effusion': 11, 'Pleural_Other': 12, 'Pneumonia': 13, 'Pneumothorax': 14, 'Support_Devices': 15})\n",
            "Row((10012261, 52477504, None, None, None, None, None, None, None, None, None, None, None, None, None, 1.0), {'subject_id': 0, 'study_id': 1, 'Atelectasis': 2, 'Cardiomegaly': 3, 'Consolidation': 4, 'Edema': 5, 'Enlarged_Cardiomediastinum': 6, 'Fracture': 7, 'Lung_Lesion': 8, 'Lung_Opacity': 9, 'No_Finding': 10, 'Pleural_Effusion': 11, 'Pleural_Other': 12, 'Pneumonia': 13, 'Pneumothorax': 14, 'Support_Devices': 15})\n",
            "Row((10012261, 53728467, None, None, 1.0, None, None, None, None, 1.0, None, None, None, -1.0, None, None), {'subject_id': 0, 'study_id': 1, 'Atelectasis': 2, 'Cardiomegaly': 3, 'Consolidation': 4, 'Edema': 5, 'Enlarged_Cardiomediastinum': 6, 'Fracture': 7, 'Lung_Lesion': 8, 'Lung_Opacity': 9, 'No_Finding': 10, 'Pleural_Effusion': 11, 'Pleural_Other': 12, 'Pneumonia': 13, 'Pneumothorax': 14, 'Support_Devices': 15})\n",
            "Row((10012261, 54843782, None, None, None, None, None, None, None, 1.0, None, None, None, None, None, None), {'subject_id': 0, 'study_id': 1, 'Atelectasis': 2, 'Cardiomegaly': 3, 'Consolidation': 4, 'Edema': 5, 'Enlarged_Cardiomediastinum': 6, 'Fracture': 7, 'Lung_Lesion': 8, 'Lung_Opacity': 9, 'No_Finding': 10, 'Pleural_Effusion': 11, 'Pleural_Other': 12, 'Pneumonia': 13, 'Pneumothorax': 14, 'Support_Devices': 15})\n",
            "Row((10012261, 55316892, 1.0, 1.0, None, 0.0, None, None, None, None, None, None, None, None, None, 1.0), {'subject_id': 0, 'study_id': 1, 'Atelectasis': 2, 'Cardiomegaly': 3, 'Consolidation': 4, 'Edema': 5, 'Enlarged_Cardiomediastinum': 6, 'Fracture': 7, 'Lung_Lesion': 8, 'Lung_Opacity': 9, 'No_Finding': 10, 'Pleural_Effusion': 11, 'Pleural_Other': 12, 'Pneumonia': 13, 'Pneumothorax': 14, 'Support_Devices': 15})\n",
            "Row((10012261, 55346787, 1.0, 0.0, None, None, None, None, None, None, None, None, None, None, None, 1.0), {'subject_id': 0, 'study_id': 1, 'Atelectasis': 2, 'Cardiomegaly': 3, 'Consolidation': 4, 'Edema': 5, 'Enlarged_Cardiomediastinum': 6, 'Fracture': 7, 'Lung_Lesion': 8, 'Lung_Opacity': 9, 'No_Finding': 10, 'Pleural_Effusion': 11, 'Pleural_Other': 12, 'Pneumonia': 13, 'Pneumothorax': 14, 'Support_Devices': 15})\n",
            "Row((10012261, 55883299, None, None, None, None, None, None, None, None, None, None, None, 1.0, None, None), {'subject_id': 0, 'study_id': 1, 'Atelectasis': 2, 'Cardiomegaly': 3, 'Consolidation': 4, 'Edema': 5, 'Enlarged_Cardiomediastinum': 6, 'Fracture': 7, 'Lung_Lesion': 8, 'Lung_Opacity': 9, 'No_Finding': 10, 'Pleural_Effusion': 11, 'Pleural_Other': 12, 'Pneumonia': 13, 'Pneumothorax': 14, 'Support_Devices': 15})\n",
            "Row((10012261, 56872341, None, None, None, None, None, None, None, 1.0, None, None, None, -1.0, None, None), {'subject_id': 0, 'study_id': 1, 'Atelectasis': 2, 'Cardiomegaly': 3, 'Consolidation': 4, 'Edema': 5, 'Enlarged_Cardiomediastinum': 6, 'Fracture': 7, 'Lung_Lesion': 8, 'Lung_Opacity': 9, 'No_Finding': 10, 'Pleural_Effusion': 11, 'Pleural_Other': 12, 'Pneumonia': 13, 'Pneumothorax': 14, 'Support_Devices': 15})\n",
            "Row((10012261, 58270659, None, None, None, None, None, None, None, None, None, None, None, 1.0, None, None), {'subject_id': 0, 'study_id': 1, 'Atelectasis': 2, 'Cardiomegaly': 3, 'Consolidation': 4, 'Edema': 5, 'Enlarged_Cardiomediastinum': 6, 'Fracture': 7, 'Lung_Lesion': 8, 'Lung_Opacity': 9, 'No_Finding': 10, 'Pleural_Effusion': 11, 'Pleural_Other': 12, 'Pneumonia': 13, 'Pneumothorax': 14, 'Support_Devices': 15})\n",
            "Row((10012292, 50854114, None, 1.0, None, None, None, None, None, 1.0, None, None, None, 0.0, None, None), {'subject_id': 0, 'study_id': 1, 'Atelectasis': 2, 'Cardiomegaly': 3, 'Consolidation': 4, 'Edema': 5, 'Enlarged_Cardiomediastinum': 6, 'Fracture': 7, 'Lung_Lesion': 8, 'Lung_Opacity': 9, 'No_Finding': 10, 'Pleural_Effusion': 11, 'Pleural_Other': 12, 'Pneumonia': 13, 'Pneumothorax': 14, 'Support_Devices': 15})\n",
            "Row((18415616, 58605705, '75d67482-46fbfcfb-b9d3be10-98f1b1dd-ba9748dc', 'files/p18/p18415616/s58605705/75d67482-46fbfcfb-b9d3be10-98f1b1dd-ba9748dc.dcm'), {'subject_id': 0, 'study_id': 1, 'dicom_id': 2, 'path': 3})\n",
            "Row((18415616, 58605705, '91ea24c1-ddf8f918-0c579885-c0bf36ed-3a2b306a', 'files/p18/p18415616/s58605705/91ea24c1-ddf8f918-0c579885-c0bf36ed-3a2b306a.dcm'), {'subject_id': 0, 'study_id': 1, 'dicom_id': 2, 'path': 3})\n",
            "Row((19136768, 50193341, '69ea47d2-8e44c7ea-8fd5dada-9385460a-fd8863d2', 'files/p19/p19136768/s50193341/69ea47d2-8e44c7ea-8fd5dada-9385460a-fd8863d2.dcm'), {'subject_id': 0, 'study_id': 1, 'dicom_id': 2, 'path': 3})\n",
            "Row((19136768, 58264435, 'c2822cd9-785880dd-b21df2f4-feae6873-a3dbcc34', 'files/p19/p19136768/s58264435/c2822cd9-785880dd-b21df2f4-feae6873-a3dbcc34.dcm'), {'subject_id': 0, 'study_id': 1, 'dicom_id': 2, 'path': 3})\n",
            "Row((19136768, 50193341, 'cbc8f5b5-f0eb7c26-5f128cde-62af96cb-9dd4f92a', 'files/p19/p19136768/s50193341/cbc8f5b5-f0eb7c26-5f128cde-62af96cb-9dd4f92a.dcm'), {'subject_id': 0, 'study_id': 1, 'dicom_id': 2, 'path': 3})\n",
            "Row((19136768, 56486750, '35469b32-ecaab79e-6029f852-160bd61a-9e39d5bb', 'files/p19/p19136768/s56486750/35469b32-ecaab79e-6029f852-160bd61a-9e39d5bb.dcm'), {'subject_id': 0, 'study_id': 1, 'dicom_id': 2, 'path': 3})\n",
            "Row((19136768, 56486750, 'aad41f8e-432a7f56-264d490c-740a1fa6-94f4f537', 'files/p19/p19136768/s56486750/aad41f8e-432a7f56-264d490c-740a1fa6-94f4f537.dcm'), {'subject_id': 0, 'study_id': 1, 'dicom_id': 2, 'path': 3})\n",
            "Row((19136768, 56486750, 'cfa2a7c3-b63044e2-6a4ef015-1c931a33-c2cba550', 'files/p19/p19136768/s56486750/cfa2a7c3-b63044e2-6a4ef015-1c931a33-c2cba550.dcm'), {'subject_id': 0, 'study_id': 1, 'dicom_id': 2, 'path': 3})\n",
            "Row((19136768, 57206253, '15a9cb0e-a198aa68-69378bf4-b2b1c36c-fd8020c2', 'files/p19/p19136768/s57206253/15a9cb0e-a198aa68-69378bf4-b2b1c36c-fd8020c2.dcm'), {'subject_id': 0, 'study_id': 1, 'dicom_id': 2, 'path': 3})\n",
            "Row((19136768, 57206253, 'e4b773ce-f9f62698-457d5834-b222a58f-656ce790', 'files/p19/p19136768/s57206253/e4b773ce-f9f62698-457d5834-b222a58f-656ce790.dcm'), {'subject_id': 0, 'study_id': 1, 'dicom_id': 2, 'path': 3})\n",
            "Row((19136768, 58264435, '884910a8-5d7a8bbd-1d59d71f-a97fa282-f7b9850f', 'files/p19/p19136768/s58264435/884910a8-5d7a8bbd-1d59d71f-a97fa282-f7b9850f.dcm'), {'subject_id': 0, 'study_id': 1, 'dicom_id': 2, 'path': 3})\n",
            "Row((19136768, 58264435, 'ebdae94d-7ace4119-3ca77b0b-bc8b0cd9-77429e52', 'files/p19/p19136768/s58264435/ebdae94d-7ace4119-3ca77b0b-bc8b0cd9-77429e52.dcm'), {'subject_id': 0, 'study_id': 1, 'dicom_id': 2, 'path': 3})\n",
            "Row((11927808, 57175046, '0ac1477f-9adc9bcc-d50b34db-9a9474de-858c265f', 'files/p11/p11927808/s57175046/0ac1477f-9adc9bcc-d50b34db-9a9474de-858c265f.dcm'), {'subject_id': 0, 'study_id': 1, 'dicom_id': 2, 'path': 3})\n",
            "Row((11927808, 57175046, '2b2577ae-3d3ea9ad-5fe66c0a-2c991ac0-4ac99a69', 'files/p11/p11927808/s57175046/2b2577ae-3d3ea9ad-5fe66c0a-2c991ac0-4ac99a69.dcm'), {'subject_id': 0, 'study_id': 1, 'dicom_id': 2, 'path': 3})\n",
            "Row((12976384, 57384159, 'cd3e21c6-27f905a3-173386aa-1625f454-17e38d16', 'files/p12/p12976384/s57384159/cd3e21c6-27f905a3-173386aa-1625f454-17e38d16.dcm'), {'subject_id': 0, 'study_id': 1, 'dicom_id': 2, 'path': 3})\n",
            "Row((12976384, 57384159, '36806931-e11bdcd6-1a033705-4af62300-6bf8a83b', 'files/p12/p12976384/s57384159/36806931-e11bdcd6-1a033705-4af62300-6bf8a83b.dcm'), {'subject_id': 0, 'study_id': 1, 'dicom_id': 2, 'path': 3})\n",
            "Row((18154240, 58688291, 'd3927d37-816da5d5-53d1b95d-082813f9-e33b27b9', 'files/p18/p18154240/s58688291/d3927d37-816da5d5-53d1b95d-082813f9-e33b27b9.dcm'), {'subject_id': 0, 'study_id': 1, 'dicom_id': 2, 'path': 3})\n",
            "Row((10486528, 52138752, '122b6f2f-8ec7d12e-7e5874a2-4f7eec8e-a312adc1', 'files/p10/p10486528/s52138752/122b6f2f-8ec7d12e-7e5874a2-4f7eec8e-a312adc1.dcm'), {'subject_id': 0, 'study_id': 1, 'dicom_id': 2, 'path': 3})\n",
            "Row((10486528, 52138752, '52f5c00c-a653807c-216df443-c31cbec3-f8b6d5fe', 'files/p10/p10486528/s52138752/52f5c00c-a653807c-216df443-c31cbec3-f8b6d5fe.dcm'), {'subject_id': 0, 'study_id': 1, 'dicom_id': 2, 'path': 3})\n",
            "Row((10486528, 52138752, '71471c3f-ee8c035e-fab6be14-02ea6f7b-604e61bb', 'files/p10/p10486528/s52138752/71471c3f-ee8c035e-fab6be14-02ea6f7b-604e61bb.dcm'), {'subject_id': 0, 'study_id': 1, 'dicom_id': 2, 'path': 3})\n",
            "Row((17564928, 59488782, '16fd6f26-80576feb-27b5bd65-72104f44-04a419cd', 'files/p17/p17564928/s59488782/16fd6f26-80576feb-27b5bd65-72104f44-04a419cd.dcm'), {'subject_id': 0, 'study_id': 1, 'dicom_id': 2, 'path': 3})\n",
            "Row((17564928, 59488782, '99aec208-43c4037f-0c0d3184-814cf520-5ffeb365', 'files/p17/p17564928/s59488782/99aec208-43c4037f-0c0d3184-814cf520-5ffeb365.dcm'), {'subject_id': 0, 'study_id': 1, 'dicom_id': 2, 'path': 3})\n",
            "Row((11273472, 59233619, '35f57533-3e6ab4f1-42dc75fb-43fa7375-bdb22c80', 'files/p11/p11273472/s59233619/35f57533-3e6ab4f1-42dc75fb-43fa7375-bdb22c80.dcm'), {'subject_id': 0, 'study_id': 1, 'dicom_id': 2, 'path': 3})\n",
            "Row((11273472, 59233619, '5944a4d3-432cbce2-de58339d-206962b6-32fa2f0d', 'files/p11/p11273472/s59233619/5944a4d3-432cbce2-de58339d-206962b6-32fa2f0d.dcm'), {'subject_id': 0, 'study_id': 1, 'dicom_id': 2, 'path': 3})\n",
            "Row((11536384, 54165248, 'c6831b8b-228c9377-c9128fb3-cb86ad19-2711f92c', 'files/p11/p11536384/s54165248/c6831b8b-228c9377-c9128fb3-cb86ad19-2711f92c.dcm'), {'subject_id': 0, 'study_id': 1, 'dicom_id': 2, 'path': 3})\n",
            "Row((18811136, 55702100, 'a5458172-113ab715-fc0777ca-14b44851-a65005f5', 'files/p18/p18811136/s55702100/a5458172-113ab715-fc0777ca-14b44851-a65005f5.dcm'), {'subject_id': 0, 'study_id': 1, 'dicom_id': 2, 'path': 3})\n",
            "Row((18811136, 55702100, 'b2d15d0d-cd55f7e6-9198ae44-994fe166-5f404f29', 'files/p18/p18811136/s55702100/b2d15d0d-cd55f7e6-9198ae44-994fe166-5f404f29.dcm'), {'subject_id': 0, 'study_id': 1, 'dicom_id': 2, 'path': 3})\n",
            "Row((16255488, 58814178, '03614fed-57234273-95c2ea50-736ec07e-52f157aa', 'files/p16/p16255488/s58814178/03614fed-57234273-95c2ea50-736ec07e-52f157aa.dcm'), {'subject_id': 0, 'study_id': 1, 'dicom_id': 2, 'path': 3})\n",
            "Row((16255488, 58814178, '855cf3df-cafe21b6-a760b25d-d7f4ec79-2f21c671', 'files/p16/p16255488/s58814178/855cf3df-cafe21b6-a760b25d-d7f4ec79-2f21c671.dcm'), {'subject_id': 0, 'study_id': 1, 'dicom_id': 2, 'path': 3})\n",
            "Row((10554112, 50024641, 'c0c75f58-d72e248e-3235d33d-61afd4b9-cf364a7f', 'files/p10/p10554112/s50024641/c0c75f58-d72e248e-3235d33d-61afd4b9-cf364a7f.dcm'), {'subject_id': 0, 'study_id': 1, 'dicom_id': 2, 'path': 3})\n",
            "Row((10554112, 50732327, '776eea09-08ed17b4-7c66b223-539bcd2e-f632edbd', 'files/p10/p10554112/s50732327/776eea09-08ed17b4-7c66b223-539bcd2e-f632edbd.dcm'), {'subject_id': 0, 'study_id': 1, 'dicom_id': 2, 'path': 3})\n",
            "Row((10554112, 50940762, '9052ac8c-0c7ce034-f97e58a3-746662c0-cddf46ef', 'files/p10/p10554112/s50940762/9052ac8c-0c7ce034-f97e58a3-746662c0-cddf46ef.dcm'), {'subject_id': 0, 'study_id': 1, 'dicom_id': 2, 'path': 3})\n",
            "Row((10554112, 51114698, 'ad0ffda0-55795145-ed32a1d2-06aeaa05-47de5964', 'files/p10/p10554112/s51114698/ad0ffda0-55795145-ed32a1d2-06aeaa05-47de5964.dcm'), {'subject_id': 0, 'study_id': 1, 'dicom_id': 2, 'path': 3})\n",
            "Row((10554112, 52351569, '8af8d178-753c0188-b969be29-ec0e6164-12412145', 'files/p10/p10554112/s52351569/8af8d178-753c0188-b969be29-ec0e6164-12412145.dcm'), {'subject_id': 0, 'study_id': 1, 'dicom_id': 2, 'path': 3})\n",
            "Row((10554112, 52400030, '3aee2d42-cca1c0b0-a1d413cb-ef041c30-8b8a3719', 'files/p10/p10554112/s52400030/3aee2d42-cca1c0b0-a1d413cb-ef041c30-8b8a3719.dcm'), {'subject_id': 0, 'study_id': 1, 'dicom_id': 2, 'path': 3})\n",
            "Row((10554112, 53244271, 'b9ad8af4-f4df5f2e-4cd019fe-16a32846-f9e757b6', 'files/p10/p10554112/s53244271/b9ad8af4-f4df5f2e-4cd019fe-16a32846-f9e757b6.dcm'), {'subject_id': 0, 'study_id': 1, 'dicom_id': 2, 'path': 3})\n",
            "Row((10554112, 53540940, '3a8ba4ed-42cfd063-89b2d187-5d417899-053aa670', 'files/p10/p10554112/s53540940/3a8ba4ed-42cfd063-89b2d187-5d417899-053aa670.dcm'), {'subject_id': 0, 'study_id': 1, 'dicom_id': 2, 'path': 3})\n",
            "Row((10554112, 54127380, '6e503589-577fd3cc-6ea64912-6f3e5686-65217602', 'files/p10/p10554112/s54127380/6e503589-577fd3cc-6ea64912-6f3e5686-65217602.dcm'), {'subject_id': 0, 'study_id': 1, 'dicom_id': 2, 'path': 3})\n",
            "Row((10554112, 54577011, 'e9a95c28-945f74df-8ef2f1a9-41a9feb8-3437fb22', 'files/p10/p10554112/s54577011/e9a95c28-945f74df-8ef2f1a9-41a9feb8-3437fb22.dcm'), {'subject_id': 0, 'study_id': 1, 'dicom_id': 2, 'path': 3})\n",
            "Row((10554112, 54773914, '315954c6-add86ce3-3dd4dd2b-bc49f239-e6f869ea', 'files/p10/p10554112/s54773914/315954c6-add86ce3-3dd4dd2b-bc49f239-e6f869ea.dcm'), {'subject_id': 0, 'study_id': 1, 'dicom_id': 2, 'path': 3})\n",
            "Row((10554112, 56601282, '05467d84-d7fc7d5b-cba561e2-854243d8-6fcd136d', 'files/p10/p10554112/s56601282/05467d84-d7fc7d5b-cba561e2-854243d8-6fcd136d.dcm'), {'subject_id': 0, 'study_id': 1, 'dicom_id': 2, 'path': 3})\n",
            "Row((10554112, 57066627, '2c730827-44d342a9-c97365c1-441b894a-a6038f9e', 'files/p10/p10554112/s57066627/2c730827-44d342a9-c97365c1-441b894a-a6038f9e.dcm'), {'subject_id': 0, 'study_id': 1, 'dicom_id': 2, 'path': 3})\n",
            "Row((10554112, 58353990, '6829ded3-9a9e5e83-272425ce-7c71677b-83cf7bfb', 'files/p10/p10554112/s58353990/6829ded3-9a9e5e83-272425ce-7c71677b-83cf7bfb.dcm'), {'subject_id': 0, 'study_id': 1, 'dicom_id': 2, 'path': 3})\n",
            "Row((10554112, 58669294, '6ee63fb4-14240a03-f25ca843-32627217-1dc62012', 'files/p10/p10554112/s58669294/6ee63fb4-14240a03-f25ca843-32627217-1dc62012.dcm'), {'subject_id': 0, 'study_id': 1, 'dicom_id': 2, 'path': 3})\n",
            "Row((10554112, 58669294, '80230630-238bde33-40329ec3-77c21e26-a05442c2', 'files/p10/p10554112/s58669294/80230630-238bde33-40329ec3-77c21e26-a05442c2.dcm'), {'subject_id': 0, 'study_id': 1, 'dicom_id': 2, 'path': 3})\n",
            "Row((10554112, 59032446, 'f909f0c5-96d522c1-b7226089-01f82ac6-b8cc76c5', 'files/p10/p10554112/s59032446/f909f0c5-96d522c1-b7226089-01f82ac6-b8cc76c5.dcm'), {'subject_id': 0, 'study_id': 1, 'dicom_id': 2, 'path': 3})\n",
            "Row((10554112, 59836057, 'df05ee28-4e2836ca-af8fcb3a-2efddd3c-4b7d8b90', 'files/p10/p10554112/s59836057/df05ee28-4e2836ca-af8fcb3a-2efddd3c-4b7d8b90.dcm'), {'subject_id': 0, 'study_id': 1, 'dicom_id': 2, 'path': 3})\n",
            "Row((10554112, 50732327, '07b3bebf-09e99e94-33f7e6c8-46ea5e35-26e6c28c', 'files/p10/p10554112/s50732327/07b3bebf-09e99e94-33f7e6c8-46ea5e35-26e6c28c.dcm'), {'subject_id': 0, 'study_id': 1, 'dicom_id': 2, 'path': 3})\n",
            "Row((10554112, 52408327, 'd9a45fa4-e79a7410-7509b6f6-62ed835e-774172a5', 'files/p10/p10554112/s52408327/d9a45fa4-e79a7410-7509b6f6-62ed835e-774172a5.dcm'), {'subject_id': 0, 'study_id': 1, 'dicom_id': 2, 'path': 3})\n",
            "Row((10554112, 53540940, '5265a7e7-1265acc5-ccd77b20-928bac41-79bfffef', 'files/p10/p10554112/s53540940/5265a7e7-1265acc5-ccd77b20-928bac41-79bfffef.dcm'), {'subject_id': 0, 'study_id': 1, 'dicom_id': 2, 'path': 3})\n",
            "Row((10554112, 53788392, '55824d46-dd589951-8ef9e5e1-c319c300-dd8891db', 'files/p10/p10554112/s53788392/55824d46-dd589951-8ef9e5e1-c319c300-dd8891db.dcm'), {'subject_id': 0, 'study_id': 1, 'dicom_id': 2, 'path': 3})\n",
            "Row((10554112, 53788392, 'ed9265df-cbc5c70f-8865caed-164bbfbd-6b1309b8', 'files/p10/p10554112/s53788392/ed9265df-cbc5c70f-8865caed-164bbfbd-6b1309b8.dcm'), {'subject_id': 0, 'study_id': 1, 'dicom_id': 2, 'path': 3})\n",
            "Row((10554112, 54127380, '9e0995a6-db5e8161-c936ab5f-75a71272-8790c8a0', 'files/p10/p10554112/s54127380/9e0995a6-db5e8161-c936ab5f-75a71272-8790c8a0.dcm'), {'subject_id': 0, 'study_id': 1, 'dicom_id': 2, 'path': 3})\n",
            "Row((10554112, 54417574, 'b2b4cbe3-276149de-f47f906e-1831e396-9bab4d79', 'files/p10/p10554112/s54417574/b2b4cbe3-276149de-f47f906e-1831e396-9bab4d79.dcm'), {'subject_id': 0, 'study_id': 1, 'dicom_id': 2, 'path': 3})\n",
            "Row((10554112, 54773914, 'd55c2bb5-b375017c-0ea43b38-852acbc4-629011e5', 'files/p10/p10554112/s54773914/d55c2bb5-b375017c-0ea43b38-852acbc4-629011e5.dcm'), {'subject_id': 0, 'study_id': 1, 'dicom_id': 2, 'path': 3})\n",
            "Row((10554112, 55385037, '7d1cb480-2cec1c7a-683121bd-70f71289-c8a36618', 'files/p10/p10554112/s55385037/7d1cb480-2cec1c7a-683121bd-70f71289-c8a36618.dcm'), {'subject_id': 0, 'study_id': 1, 'dicom_id': 2, 'path': 3})\n",
            "Row((10554112, 55566738, '03e8c1d4-d5fde24c-42935964-4107167a-19f089b9', 'files/p10/p10554112/s55566738/03e8c1d4-d5fde24c-42935964-4107167a-19f089b9.dcm'), {'subject_id': 0, 'study_id': 1, 'dicom_id': 2, 'path': 3})\n",
            "Row((10554112, 56167121, '9bb58096-74839b88-1414a26b-2916fa48-60884859', 'files/p10/p10554112/s56167121/9bb58096-74839b88-1414a26b-2916fa48-60884859.dcm'), {'subject_id': 0, 'study_id': 1, 'dicom_id': 2, 'path': 3})\n",
            "Row((10554112, 56601282, 'aeeeac22-8b275400-57041075-d82d7518-34611d88', 'files/p10/p10554112/s56601282/aeeeac22-8b275400-57041075-d82d7518-34611d88.dcm'), {'subject_id': 0, 'study_id': 1, 'dicom_id': 2, 'path': 3})\n",
            "Row((10554112, 59032446, '97d84838-c3028330-457dbe76-5dcdf621-f77fcd5e', 'files/p10/p10554112/s59032446/97d84838-c3028330-457dbe76-5dcdf621-f77fcd5e.dcm'), {'subject_id': 0, 'study_id': 1, 'dicom_id': 2, 'path': 3})\n",
            "Row((12978944, 55311215, '35556294-ae6827ae-01aeae85-6c2e27b5-75179512', 'files/p12/p12978944/s55311215/35556294-ae6827ae-01aeae85-6c2e27b5-75179512.dcm'), {'subject_id': 0, 'study_id': 1, 'dicom_id': 2, 'path': 3})\n",
            "Row((12978944, 55311215, '1889f635-d09d8a2e-febeb666-62c34a5f-3b4e14fb', 'files/p12/p12978944/s55311215/1889f635-d09d8a2e-febeb666-62c34a5f-3b4e14fb.dcm'), {'subject_id': 0, 'study_id': 1, 'dicom_id': 2, 'path': 3})\n",
            "Row((16124672, 51977120, '04b7367d-763c40e0-b0a7e967-fc082f8a-4b161177', 'files/p16/p16124672/s51977120/04b7367d-763c40e0-b0a7e967-fc082f8a-4b161177.dcm'), {'subject_id': 0, 'study_id': 1, 'dicom_id': 2, 'path': 3})\n",
            "Row((16124672, 51977120, '80054a6f-9151cdf2-c8623b8d-12e5dda7-44f8ba19', 'files/p16/p16124672/s51977120/80054a6f-9151cdf2-c8623b8d-12e5dda7-44f8ba19.dcm'), {'subject_id': 0, 'study_id': 1, 'dicom_id': 2, 'path': 3})\n",
            "Row((16124672, 51977120, '9fb13e17-8b235a1a-5d6add4d-678dd595-806e761c', 'files/p16/p16124672/s51977120/9fb13e17-8b235a1a-5d6add4d-678dd595-806e761c.dcm'), {'subject_id': 0, 'study_id': 1, 'dicom_id': 2, 'path': 3})\n",
            "Row((14945792, 59470609, '1a063279-8bd46c86-f61c8861-8566e611-57eff494', 'files/p14/p14945792/s59470609/1a063279-8bd46c86-f61c8861-8566e611-57eff494.dcm'), {'subject_id': 0, 'study_id': 1, 'dicom_id': 2, 'path': 3})\n",
            "Row((14945792, 59470609, '33701e44-14045bd7-0dc2f120-b466e4b4-632c5f25', 'files/p14/p14945792/s59470609/33701e44-14045bd7-0dc2f120-b466e4b4-632c5f25.dcm'), {'subject_id': 0, 'study_id': 1, 'dicom_id': 2, 'path': 3})\n",
            "Row((14945792, 59470609, '7cd102f7-97ab2979-c561d5ca-081880b9-b2d212c4', 'files/p14/p14945792/s59470609/7cd102f7-97ab2979-c561d5ca-081880b9-b2d212c4.dcm'), {'subject_id': 0, 'study_id': 1, 'dicom_id': 2, 'path': 3})\n",
            "Row((14945792, 59470609, 'a86e8a5b-2f1b78ae-04b4c42e-38bd2e94-67c766d7', 'files/p14/p14945792/s59470609/a86e8a5b-2f1b78ae-04b4c42e-38bd2e94-67c766d7.dcm'), {'subject_id': 0, 'study_id': 1, 'dicom_id': 2, 'path': 3})\n",
            "Row((18878464, 53468473, 'd2764db0-4415bacb-77b3c34f-ba47fe18-b982d86a', 'files/p18/p18878464/s53468473/d2764db0-4415bacb-77b3c34f-ba47fe18-b982d86a.dcm'), {'subject_id': 0, 'study_id': 1, 'dicom_id': 2, 'path': 3})\n",
            "Row((18878464, 53468473, 'e8f49f3f-9b269529-79823419-27caf07c-af78edbf', 'files/p18/p18878464/s53468473/e8f49f3f-9b269529-79823419-27caf07c-af78edbf.dcm'), {'subject_id': 0, 'study_id': 1, 'dicom_id': 2, 'path': 3})\n",
            "Row((10227968, 58727140, '2a1bc0f9-8e240913-b1c40d1a-ec89bf2d-9da63baf', 'files/p10/p10227968/s58727140/2a1bc0f9-8e240913-b1c40d1a-ec89bf2d-9da63baf.dcm'), {'subject_id': 0, 'study_id': 1, 'dicom_id': 2, 'path': 3})\n",
            "Row((10227968, 58727140, '57d3dd3f-8d756117-62235eba-ae6919a1-6ad1f246', 'files/p10/p10227968/s58727140/57d3dd3f-8d756117-62235eba-ae6919a1-6ad1f246.dcm'), {'subject_id': 0, 'study_id': 1, 'dicom_id': 2, 'path': 3})\n",
            "Row((10227968, 58727140, 'ad0a42fd-6abb1928-9b0ced5c-c061bae8-4e88e3d6', 'files/p10/p10227968/s58727140/ad0a42fd-6abb1928-9b0ced5c-c061bae8-4e88e3d6.dcm'), {'subject_id': 0, 'study_id': 1, 'dicom_id': 2, 'path': 3})\n",
            "Row((10227968, 58727140, 'b62d5cde-cbb34d5e-ed7bdfc3-08add798-36751d44', 'files/p10/p10227968/s58727140/b62d5cde-cbb34d5e-ed7bdfc3-08add798-36751d44.dcm'), {'subject_id': 0, 'study_id': 1, 'dicom_id': 2, 'path': 3})\n",
            "Row((12194304, 55692996, '97a476b3-54284bea-822cd44b-a754f357-ab869e07', 'files/p12/p12194304/s55692996/97a476b3-54284bea-822cd44b-a754f357-ab869e07.dcm'), {'subject_id': 0, 'study_id': 1, 'dicom_id': 2, 'path': 3})\n",
            "Row((12194304, 55692996, 'bce64768-7ea42ba5-31b51e63-1d3dcb0f-fc96d14c', 'files/p12/p12194304/s55692996/bce64768-7ea42ba5-31b51e63-1d3dcb0f-fc96d14c.dcm'), {'subject_id': 0, 'study_id': 1, 'dicom_id': 2, 'path': 3})\n",
            "Row((13963776, 58160578, '9a33b242-db036e4a-1e8b57d7-28797001-4083b1ed', 'files/p13/p13963776/s58160578/9a33b242-db036e4a-1e8b57d7-28797001-4083b1ed.dcm'), {'subject_id': 0, 'study_id': 1, 'dicom_id': 2, 'path': 3})\n",
            "Row((11801344, 50398172, '5c105742-95fa1fb9-006e484b-f9873e59-b8fc12da', 'files/p11/p11801344/s50398172/5c105742-95fa1fb9-006e484b-f9873e59-b8fc12da.dcm'), {'subject_id': 0, 'study_id': 1, 'dicom_id': 2, 'path': 3})\n",
            "Row((11801344, 50398172, '6fb52078-358ba5ea-679d8195-aef95a4d-7516b93f', 'files/p11/p11801344/s50398172/6fb52078-358ba5ea-679d8195-aef95a4d-7516b93f.dcm'), {'subject_id': 0, 'study_id': 1, 'dicom_id': 2, 'path': 3})\n",
            "Row((13046528, 51952337, '560ba017-345d60a1-d1838acf-2a42c920-fdb52c0d', 'files/p13/p13046528/s51952337/560ba017-345d60a1-d1838acf-2a42c920-fdb52c0d.dcm'), {'subject_id': 0, 'study_id': 1, 'dicom_id': 2, 'path': 3})\n",
            "Row((13046528, 54109616, '2b043dd9-c4a21a85-4f3fd1e1-df22fa3a-b1653559', 'files/p13/p13046528/s54109616/2b043dd9-c4a21a85-4f3fd1e1-df22fa3a-b1653559.dcm'), {'subject_id': 0, 'study_id': 1, 'dicom_id': 2, 'path': 3})\n",
            "Row((13046528, 55251745, '61ac405e-7531375e-09eab77b-2c8ded50-82a48e43', 'files/p13/p13046528/s55251745/61ac405e-7531375e-09eab77b-2c8ded50-82a48e43.dcm'), {'subject_id': 0, 'study_id': 1, 'dicom_id': 2, 'path': 3})\n",
            "Row((13046528, 58508016, '76558657-c3576c69-f8137b3e-a50967ae-916485bf', 'files/p13/p13046528/s58508016/76558657-c3576c69-f8137b3e-a50967ae-916485bf.dcm'), {'subject_id': 0, 'study_id': 1, 'dicom_id': 2, 'path': 3})\n",
            "Row((13046528, 59705269, 'e3e8519f-7d450f84-9c17fbae-8016ca84-d65546a3', 'files/p13/p13046528/s59705269/e3e8519f-7d450f84-9c17fbae-8016ca84-d65546a3.dcm'), {'subject_id': 0, 'study_id': 1, 'dicom_id': 2, 'path': 3})\n",
            "Row((13046528, 51952337, '6fe1652e-c0f2acb8-72aedbe2-78f2f4e5-1456eb60', 'files/p13/p13046528/s51952337/6fe1652e-c0f2acb8-72aedbe2-78f2f4e5-1456eb60.dcm'), {'subject_id': 0, 'study_id': 1, 'dicom_id': 2, 'path': 3})\n",
            "Row((13046528, 54109616, '07a97c5f-083d8774-517b33a3-d265fab7-59bb73ee', 'files/p13/p13046528/s54109616/07a97c5f-083d8774-517b33a3-d265fab7-59bb73ee.dcm'), {'subject_id': 0, 'study_id': 1, 'dicom_id': 2, 'path': 3})\n",
            "Row((13046528, 54109616, '2cf43706-cc169eb3-764ae801-bd3abf51-fb18a576', 'files/p13/p13046528/s54109616/2cf43706-cc169eb3-764ae801-bd3abf51-fb18a576.dcm'), {'subject_id': 0, 'study_id': 1, 'dicom_id': 2, 'path': 3})\n",
            "Row((13046528, 54278506, '5ec9b2a8-19b8f9b8-f6e48e01-ad5f52cf-e337de5c', 'files/p13/p13046528/s54278506/5ec9b2a8-19b8f9b8-f6e48e01-ad5f52cf-e337de5c.dcm'), {'subject_id': 0, 'study_id': 1, 'dicom_id': 2, 'path': 3})\n",
            "Row((13046528, 56708098, '36db75c7-7fd34cf0-3addcedc-c34bbd75-275ec6a5', 'files/p13/p13046528/s56708098/36db75c7-7fd34cf0-3addcedc-c34bbd75-275ec6a5.dcm'), {'subject_id': 0, 'study_id': 1, 'dicom_id': 2, 'path': 3})\n",
            "Row((13046528, 57030789, 'b452ff0e-048209e2-b08fa63f-9248b1a6-d4b57386', 'files/p13/p13046528/s57030789/b452ff0e-048209e2-b08fa63f-9248b1a6-d4b57386.dcm'), {'subject_id': 0, 'study_id': 1, 'dicom_id': 2, 'path': 3})\n",
            "Row((13046528, 58989887, '51c045c3-8350e28f-df31ba7c-08802abe-f1375b90', 'files/p13/p13046528/s58989887/51c045c3-8350e28f-df31ba7c-08802abe-f1375b90.dcm'), {'subject_id': 0, 'study_id': 1, 'dicom_id': 2, 'path': 3})\n",
            "Row((13046528, 58989887, 'e2b72949-b339a49a-38ff7e28-e786f670-a0f8a77c', 'files/p13/p13046528/s58989887/e2b72949-b339a49a-38ff7e28-e786f670-a0f8a77c.dcm'), {'subject_id': 0, 'study_id': 1, 'dicom_id': 2, 'path': 3})\n",
            "Row((13046528, 59705269, 'c9586fd8-000ffc40-469f0244-0b9f1257-4de4c2c5', 'files/p13/p13046528/s59705269/c9586fd8-000ffc40-469f0244-0b9f1257-4de4c2c5.dcm'), {'subject_id': 0, 'study_id': 1, 'dicom_id': 2, 'path': 3})\n",
            "Row((16651008, 51807495, 'e65057ad-14197601-1c867d9f-1ad2943a-85eb0e37', 'files/p16/p16651008/s51807495/e65057ad-14197601-1c867d9f-1ad2943a-85eb0e37.dcm'), {'subject_id': 0, 'study_id': 1, 'dicom_id': 2, 'path': 3})\n",
            "Row((16651008, 52792099, '1c2167e9-e8a21322-867aedbb-aa664226-253de54d', 'files/p16/p16651008/s52792099/1c2167e9-e8a21322-867aedbb-aa664226-253de54d.dcm'), {'subject_id': 0, 'study_id': 1, 'dicom_id': 2, 'path': 3})\n",
            "Row((16651008, 53233608, '66c6020c-25798c62-fb88498b-1d9869e1-47ee5909', 'files/p16/p16651008/s53233608/66c6020c-25798c62-fb88498b-1d9869e1-47ee5909.dcm'), {'subject_id': 0, 'study_id': 1, 'dicom_id': 2, 'path': 3})\n",
            "Row((16651008, 54346019, 'a1d78c3a-f0ee06a5-b3dff907-a03f083b-849a10b8', 'files/p16/p16651008/s54346019/a1d78c3a-f0ee06a5-b3dff907-a03f083b-849a10b8.dcm'), {'subject_id': 0, 'study_id': 1, 'dicom_id': 2, 'path': 3})\n",
            "Row((16651008, 54370124, 'c8bf11db-7a139211-7985f395-29c9ba42-f3ef2bc2', 'files/p16/p16651008/s54370124/c8bf11db-7a139211-7985f395-29c9ba42-f3ef2bc2.dcm'), {'subject_id': 0, 'study_id': 1, 'dicom_id': 2, 'path': 3})\n",
            "Row((16651008, 54782711, '2f4da4b0-3c01341e-9bd97e71-024b1bea-8815017a', 'files/p16/p16651008/s54782711/2f4da4b0-3c01341e-9bd97e71-024b1bea-8815017a.dcm'), {'subject_id': 0, 'study_id': 1, 'dicom_id': 2, 'path': 3})\n",
            "<bound method NDFrame.head of Empty DataFrame\n",
            "Columns: [subject_id_x, Atelectasis, Cardiomegaly, Consolidation, Edema, Enlarged_Cardiomediastinum, Fracture, Lung_Lesion, Lung_Opacity, No_Finding, Pleural_Effusion, Pleural_Other, Pneumonia, Pneumothorax, Support_Devices, subject_id_y, study_id, dicom_id, path]\n",
            "Index: []>\n"
          ]
        }
      ]
    },
    {
      "cell_type": "code",
      "source": [
        "def summarize_data(dataset, table):\n",
        "    # Run the query to retrieve the data\n",
        "    query = \"\"\"\n",
        "    SELECT *\n",
        "    FROM `{0}.{1}.{2}`\n",
        "    \"\"\".format('physionet-data', dataset, table)\n",
        "\n",
        "    query_job = client.query(query)\n",
        "    results = query_job.result()\n",
        "\n",
        "    # Initialize counters and dictionaries\n",
        "    total_patients = 0\n",
        "    distinct_patients = set()\n",
        "    disease_counts = {}\n",
        "    disease_percentages = {}\n",
        "\n",
        "    # Process and extract the data\n",
        "    for row in results:\n",
        "        total_patients += 1\n",
        "        distinct_patients.add(row.subject_id)\n",
        "\n",
        "        # Iterate over the diseases/findings columns\n",
        "        for column_name in row.keys():\n",
        "            if column_name not in ['subject_id', 'study_id']:\n",
        "                disease_value = row[column_name]\n",
        "\n",
        "                # Count the occurrences of each disease/finding\n",
        "                if disease_value is not None:\n",
        "                    if column_name not in disease_counts:\n",
        "                        disease_counts[column_name] = 0\n",
        "                    disease_counts[column_name] += 1\n",
        "\n",
        "    # Calculate the percentages of each disease/finding\n",
        "    for column_name, count in disease_counts.items():\n",
        "        percentage = (count / total_patients) * 100\n",
        "        disease_percentages[column_name] = percentage\n",
        "\n",
        "    # Prepare the summary statistics as a list of lists\n",
        "    summary_data = [\n",
        "        [\"Total count of patients:\", total_patients],\n",
        "        [\"Count of distinct patients:\", len(distinct_patients)],\n",
        "        [\"Count of each disease/finding (from most frequent to least frequent):\"]\n",
        "    ]\n",
        "    for column_name, count in sorted(disease_counts.items(), key=lambda x: x[1], reverse=True):\n",
        "        summary_data.append([column_name, count])\n",
        "    summary_data.append([\"Percentage of each disease/finding to the total count of patients:\"])\n",
        "    for column_name, percentage in sorted(disease_percentages.items(), key=lambda x: x[1], reverse=True):\n",
        "        summary_data.append([column_name, \"{:.2f}%\".format(percentage)])\n",
        "\n",
        "    # Generate the formatted table\n",
        "    table_output = tabulate(summary_data, headers=[\"Category\", \"Count/Percentage\"], tablefmt=\"github\")\n",
        "\n",
        "    # Print the formatted table\n",
        "    print(table_output)\n",
        "\n",
        "# Define the dataset and table of interest\n",
        "dataset = 'mimic_cxr'\n",
        "table = 'chexpert'\n",
        "\n",
        "# Create query\n",
        "# query = create_query(dataset, table)\n",
        "# query_dataset(query)\n",
        "\n",
        "# Summarize findings\n",
        "summarize_data(dataset, table)"
      ],
      "metadata": {
        "colab": {
          "base_uri": "https://localhost:8080/"
        },
        "id": "zzt9hZD0V6q2",
        "outputId": "cef5cb59-7a17-4fe7-f585-84cf2280c251"
      },
      "execution_count": null,
      "outputs": [
        {
          "output_type": "stream",
          "name": "stdout",
          "text": [
            "| Category                                                              | Count/Percentage   |\n",
            "|-----------------------------------------------------------------------|--------------------|\n",
            "| Total count of patients:                                              | 227827             |\n",
            "| Count of distinct patients:                                           | 65379              |\n",
            "| Count of each disease/finding (from most frequent to least frequent): |                    |\n",
            "| Pleural_Effusion                                                      | 87272              |\n",
            "| No_Finding                                                            | 75455              |\n",
            "| Support_Devices                                                       | 70281              |\n",
            "| Cardiomegaly                                                          | 66799              |\n",
            "| Edema                                                                 | 65833              |\n",
            "| Pneumonia                                                             | 59185              |\n",
            "| Lung_Opacity                                                          | 58425              |\n",
            "| Atelectasis                                                           | 57666              |\n",
            "| Pneumothorax                                                          | 53848              |\n",
            "| Consolidation                                                         | 23076              |\n",
            "| Enlarged_Cardiomediastinum                                            | 21837              |\n",
            "| Lung_Lesion                                                           | 8287               |\n",
            "| Fracture                                                              | 5831               |\n",
            "| Pleural_Other                                                         | 2902               |\n",
            "| Percentage of each disease/finding to the total count of patients:    |                    |\n",
            "| Pleural_Effusion                                                      | 38.31%             |\n",
            "| No_Finding                                                            | 33.12%             |\n",
            "| Support_Devices                                                       | 30.85%             |\n",
            "| Cardiomegaly                                                          | 29.32%             |\n",
            "| Edema                                                                 | 28.90%             |\n",
            "| Pneumonia                                                             | 25.98%             |\n",
            "| Lung_Opacity                                                          | 25.64%             |\n",
            "| Atelectasis                                                           | 25.31%             |\n",
            "| Pneumothorax                                                          | 23.64%             |\n",
            "| Consolidation                                                         | 10.13%             |\n",
            "| Enlarged_Cardiomediastinum                                            | 9.58%              |\n",
            "| Lung_Lesion                                                           | 3.64%              |\n",
            "| Fracture                                                              | 2.56%              |\n",
            "| Pleural_Other                                                         | 1.27%              |\n"
          ]
        }
      ]
    }
  ]
}